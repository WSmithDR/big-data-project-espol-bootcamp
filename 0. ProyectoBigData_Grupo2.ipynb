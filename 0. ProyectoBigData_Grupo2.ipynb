{
 "cells": [
  {
   "cell_type": "markdown",
   "id": "c222a986",
   "metadata": {},
   "source": [
    "# Proyecto Big Data \n",
    "## Reviews de Películas\n",
    "### Grupo2"
   ]
  },
  {
   "cell_type": "code",
   "execution_count": 1,
   "id": "2f74f0ef",
   "metadata": {},
   "outputs": [
    {
     "name": "stdout",
     "output_type": "stream",
     "text": [
      "Requirement already satisfied: duckdb in c:\\projects\\espol\\big-data-project\\big_data_venv\\lib\\site-packages (1.2.2)\n",
      "Note: you may need to restart the kernel to use updated packages.\n"
     ]
    },
    {
     "name": "stderr",
     "output_type": "stream",
     "text": [
      "\n",
      "[notice] A new release of pip is available: 23.2.1 -> 25.0.1\n",
      "[notice] To update, run: python.exe -m pip install --upgrade pip\n"
     ]
    }
   ],
   "source": [
    "%pip install duckdb"
   ]
  },
  {
   "cell_type": "code",
   "execution_count": 2,
   "id": "f14c8575",
   "metadata": {},
   "outputs": [
    {
     "name": "stdout",
     "output_type": "stream",
     "text": [
      "Requirement already satisfied: pandas in c:\\projects\\espol\\big-data-project\\big_data_venv\\lib\\site-packages (2.2.3)\n",
      "Requirement already satisfied: numpy>=1.23.2 in c:\\projects\\espol\\big-data-project\\big_data_venv\\lib\\site-packages (from pandas) (2.2.4)\n",
      "Requirement already satisfied: python-dateutil>=2.8.2 in c:\\projects\\espol\\big-data-project\\big_data_venv\\lib\\site-packages (from pandas) (2.9.0.post0)\n",
      "Requirement already satisfied: pytz>=2020.1 in c:\\projects\\espol\\big-data-project\\big_data_venv\\lib\\site-packages (from pandas) (2025.2)\n",
      "Requirement already satisfied: tzdata>=2022.7 in c:\\projects\\espol\\big-data-project\\big_data_venv\\lib\\site-packages (from pandas) (2025.2)\n",
      "Requirement already satisfied: six>=1.5 in c:\\projects\\espol\\big-data-project\\big_data_venv\\lib\\site-packages (from python-dateutil>=2.8.2->pandas) (1.17.0)\n",
      "Note: you may need to restart the kernel to use updated packages.\n"
     ]
    },
    {
     "name": "stderr",
     "output_type": "stream",
     "text": [
      "\n",
      "[notice] A new release of pip is available: 23.2.1 -> 25.0.1\n",
      "[notice] To update, run: python.exe -m pip install --upgrade pip\n"
     ]
    }
   ],
   "source": [
    "%pip install pandas"
   ]
  },
  {
   "cell_type": "code",
   "execution_count": 3,
   "id": "fcbc0c32",
   "metadata": {},
   "outputs": [
    {
     "name": "stdout",
     "output_type": "stream",
     "text": [
      "Requirement already satisfied: polars in c:\\projects\\espol\\big-data-project\\big_data_venv\\lib\\site-packages (1.27.1)\n",
      "Note: you may need to restart the kernel to use updated packages.\n"
     ]
    },
    {
     "name": "stderr",
     "output_type": "stream",
     "text": [
      "\n",
      "[notice] A new release of pip is available: 23.2.1 -> 25.0.1\n",
      "[notice] To update, run: python.exe -m pip install --upgrade pip\n"
     ]
    }
   ],
   "source": [
    "%pip install polars"
   ]
  },
  {
   "cell_type": "markdown",
   "id": "bc8a9889",
   "metadata": {},
   "source": [
    "### Importación de datos"
   ]
  },
  {
   "cell_type": "code",
   "execution_count": 4,
   "id": "fba32002-a8f9-4979-8f60-4ee794be1e40",
   "metadata": {},
   "outputs": [],
   "source": [
    "#Medir tiempo\n",
    "import time\n",
    "\n",
    "tiempoInicio = time.time()"
   ]
  },
  {
   "cell_type": "code",
   "execution_count": 5,
   "id": "518cc8cd",
   "metadata": {},
   "outputs": [],
   "source": [
    "import pandas as pd\n",
    "import duckdb"
   ]
  },
  {
   "cell_type": "code",
   "execution_count": 6,
   "id": "cfe6eeb4",
   "metadata": {},
   "outputs": [],
   "source": [
    "#Realizamos la conexión \n",
    "conexion = duckdb.connect(\"./grupo2_bigdata.db\")"
   ]
  },
  {
   "cell_type": "markdown",
   "id": "3976c4f3",
   "metadata": {},
   "source": [
    "### 1. USER_REVIEWS_S"
   ]
  },
  {
   "cell_type": "code",
   "execution_count": 7,
   "id": "f244bfc1",
   "metadata": {},
   "outputs": [],
   "source": [
    "#Creamos la tabla\n",
    "conexion.query(\n",
    "\"\"\"\n",
    "CREATE TABLE USER_REVIEWS AS\n",
    "SELECT * FROM './user_reviews.csv'\n",
    "\"\"\"\n",
    ")"
   ]
  },
  {
   "cell_type": "code",
   "execution_count": 8,
   "id": "74bad385",
   "metadata": {},
   "outputs": [],
   "source": [
    "#Resumen\n",
    "duck_df=conexion.query(\n",
    "\"\"\"\n",
    "    SUMMARIZE SELECT * FROM USER_REVIEWS;\n",
    "\"\"\"\n",
    ")"
   ]
  },
  {
   "cell_type": "code",
   "execution_count": 10,
   "id": "1f8becf2",
   "metadata": {},
   "outputs": [
    {
     "data": {
      "text/html": [
       "<div>\n",
       "<style scoped>\n",
       "    .dataframe tbody tr th:only-of-type {\n",
       "        vertical-align: middle;\n",
       "    }\n",
       "\n",
       "    .dataframe tbody tr th {\n",
       "        vertical-align: top;\n",
       "    }\n",
       "\n",
       "    .dataframe thead th {\n",
       "        text-align: right;\n",
       "    }\n",
       "</style>\n",
       "<table border=\"1\" class=\"dataframe\">\n",
       "  <thead>\n",
       "    <tr style=\"text-align: right;\">\n",
       "      <th></th>\n",
       "      <th>column_name</th>\n",
       "      <th>column_type</th>\n",
       "      <th>min</th>\n",
       "      <th>max</th>\n",
       "      <th>approx_unique</th>\n",
       "      <th>avg</th>\n",
       "      <th>std</th>\n",
       "      <th>q25</th>\n",
       "      <th>q50</th>\n",
       "      <th>q75</th>\n",
       "      <th>count</th>\n",
       "      <th>null_percentage</th>\n",
       "    </tr>\n",
       "  </thead>\n",
       "  <tbody>\n",
       "    <tr>\n",
       "      <th>0</th>\n",
       "      <td>movieId</td>\n",
       "      <td>VARCHAR</td>\n",
       "      <td>0009c18f-a374-3d9d-a7da-ad5395b67b13</td>\n",
       "      <td>fffacf6b-eb34-3a4c-b461-5548a6bfaea7</td>\n",
       "      <td>9805</td>\n",
       "      <td>None</td>\n",
       "      <td>None</td>\n",
       "      <td>None</td>\n",
       "      <td>None</td>\n",
       "      <td>None</td>\n",
       "      <td>55130430</td>\n",
       "      <td>0.00</td>\n",
       "    </tr>\n",
       "    <tr>\n",
       "      <th>1</th>\n",
       "      <td>rating</td>\n",
       "      <td>DOUBLE</td>\n",
       "      <td>0.5</td>\n",
       "      <td>5.0</td>\n",
       "      <td>11</td>\n",
       "      <td>3.6682733746136207</td>\n",
       "      <td>1.2579098520388428</td>\n",
       "      <td>3.0</td>\n",
       "      <td>4.0</td>\n",
       "      <td>4.99999852160044</td>\n",
       "      <td>55130430</td>\n",
       "      <td>0.00</td>\n",
       "    </tr>\n",
       "    <tr>\n",
       "      <th>2</th>\n",
       "      <td>quote</td>\n",
       "      <td>VARCHAR</td>\n",
       "      <td>\u0003\u0003\u0003\u0003\u0003\u0003Hilarious if ya like that sort of thing</td>\n",
       "      <td>🫶🏽🫶🏽🫶🏽🫶🏽🫶🏽🫶🏽🫶🏽🫶🏽🫶🏽</td>\n",
       "      <td>47952236</td>\n",
       "      <td>None</td>\n",
       "      <td>None</td>\n",
       "      <td>None</td>\n",
       "      <td>None</td>\n",
       "      <td>None</td>\n",
       "      <td>55130430</td>\n",
       "      <td>0.00</td>\n",
       "    </tr>\n",
       "    <tr>\n",
       "      <th>3</th>\n",
       "      <td>reviewId</td>\n",
       "      <td>VARCHAR</td>\n",
       "      <td>00000013-989b-460c-93a4-4c557f350e86</td>\n",
       "      <td>fffffcc4-bcab-4083-b025-cdaaee29e788</td>\n",
       "      <td>9705933</td>\n",
       "      <td>None</td>\n",
       "      <td>None</td>\n",
       "      <td>None</td>\n",
       "      <td>None</td>\n",
       "      <td>None</td>\n",
       "      <td>55130430</td>\n",
       "      <td>77.05</td>\n",
       "    </tr>\n",
       "    <tr>\n",
       "      <th>4</th>\n",
       "      <td>isVerified</td>\n",
       "      <td>BOOLEAN</td>\n",
       "      <td>false</td>\n",
       "      <td>true</td>\n",
       "      <td>2</td>\n",
       "      <td>None</td>\n",
       "      <td>None</td>\n",
       "      <td>None</td>\n",
       "      <td>None</td>\n",
       "      <td>None</td>\n",
       "      <td>55130430</td>\n",
       "      <td>0.00</td>\n",
       "    </tr>\n",
       "    <tr>\n",
       "      <th>5</th>\n",
       "      <td>isSuperReviewer</td>\n",
       "      <td>BOOLEAN</td>\n",
       "      <td>false</td>\n",
       "      <td>true</td>\n",
       "      <td>2</td>\n",
       "      <td>None</td>\n",
       "      <td>None</td>\n",
       "      <td>None</td>\n",
       "      <td>None</td>\n",
       "      <td>None</td>\n",
       "      <td>55130430</td>\n",
       "      <td>0.00</td>\n",
       "    </tr>\n",
       "    <tr>\n",
       "      <th>6</th>\n",
       "      <td>hasSpoilers</td>\n",
       "      <td>BOOLEAN</td>\n",
       "      <td>false</td>\n",
       "      <td>true</td>\n",
       "      <td>2</td>\n",
       "      <td>None</td>\n",
       "      <td>None</td>\n",
       "      <td>None</td>\n",
       "      <td>None</td>\n",
       "      <td>None</td>\n",
       "      <td>55130430</td>\n",
       "      <td>0.00</td>\n",
       "    </tr>\n",
       "    <tr>\n",
       "      <th>7</th>\n",
       "      <td>hasProfanity</td>\n",
       "      <td>BOOLEAN</td>\n",
       "      <td>false</td>\n",
       "      <td>true</td>\n",
       "      <td>2</td>\n",
       "      <td>None</td>\n",
       "      <td>None</td>\n",
       "      <td>None</td>\n",
       "      <td>None</td>\n",
       "      <td>None</td>\n",
       "      <td>55130430</td>\n",
       "      <td>0.00</td>\n",
       "    </tr>\n",
       "    <tr>\n",
       "      <th>8</th>\n",
       "      <td>score</td>\n",
       "      <td>DOUBLE</td>\n",
       "      <td>0.5</td>\n",
       "      <td>5.0</td>\n",
       "      <td>11</td>\n",
       "      <td>3.6682733746136207</td>\n",
       "      <td>1.2579098520388428</td>\n",
       "      <td>3.0</td>\n",
       "      <td>4.0</td>\n",
       "      <td>4.99999852160044</td>\n",
       "      <td>55130430</td>\n",
       "      <td>0.00</td>\n",
       "    </tr>\n",
       "    <tr>\n",
       "      <th>9</th>\n",
       "      <td>creationDate</td>\n",
       "      <td>DATE</td>\n",
       "      <td>1996-01-19</td>\n",
       "      <td>2024-07-17</td>\n",
       "      <td>7748</td>\n",
       "      <td>None</td>\n",
       "      <td>None</td>\n",
       "      <td>2007-06-05</td>\n",
       "      <td>2007-10-12</td>\n",
       "      <td>2008-11-11</td>\n",
       "      <td>55130430</td>\n",
       "      <td>0.00</td>\n",
       "    </tr>\n",
       "    <tr>\n",
       "      <th>10</th>\n",
       "      <td>userDisplayName</td>\n",
       "      <td>VARCHAR</td>\n",
       "      <td></td>\n",
       "      <td>🫡🫡</td>\n",
       "      <td>372018</td>\n",
       "      <td>None</td>\n",
       "      <td>None</td>\n",
       "      <td>None</td>\n",
       "      <td>None</td>\n",
       "      <td>None</td>\n",
       "      <td>55130430</td>\n",
       "      <td>96.42</td>\n",
       "    </tr>\n",
       "    <tr>\n",
       "      <th>11</th>\n",
       "      <td>userRealm</td>\n",
       "      <td>VARCHAR</td>\n",
       "      <td>Fandango</td>\n",
       "      <td>RT</td>\n",
       "      <td>3</td>\n",
       "      <td>None</td>\n",
       "      <td>None</td>\n",
       "      <td>None</td>\n",
       "      <td>None</td>\n",
       "      <td>None</td>\n",
       "      <td>55130430</td>\n",
       "      <td>0.00</td>\n",
       "    </tr>\n",
       "    <tr>\n",
       "      <th>12</th>\n",
       "      <td>userId</td>\n",
       "      <td>VARCHAR</td>\n",
       "      <td>-100016731</td>\n",
       "      <td>ffffeada-64d2-4f9d-88b0-c5a47db4dd22</td>\n",
       "      <td>7517535</td>\n",
       "      <td>None</td>\n",
       "      <td>None</td>\n",
       "      <td>None</td>\n",
       "      <td>None</td>\n",
       "      <td>None</td>\n",
       "      <td>55130430</td>\n",
       "      <td>0.00</td>\n",
       "    </tr>\n",
       "  </tbody>\n",
       "</table>\n",
       "</div>"
      ],
      "text/plain": [
       "        column_name column_type  \\\n",
       "0           movieId     VARCHAR   \n",
       "1            rating      DOUBLE   \n",
       "2             quote     VARCHAR   \n",
       "3          reviewId     VARCHAR   \n",
       "4        isVerified     BOOLEAN   \n",
       "5   isSuperReviewer     BOOLEAN   \n",
       "6       hasSpoilers     BOOLEAN   \n",
       "7      hasProfanity     BOOLEAN   \n",
       "8             score      DOUBLE   \n",
       "9      creationDate        DATE   \n",
       "10  userDisplayName     VARCHAR   \n",
       "11        userRealm     VARCHAR   \n",
       "12           userId     VARCHAR   \n",
       "\n",
       "                                              min  \\\n",
       "0            0009c18f-a374-3d9d-a7da-ad5395b67b13   \n",
       "1                                             0.5   \n",
       "2   \u0003\u0003\u0003\u0003\u0003\u0003Hilarious if ya like that sort of thing   \n",
       "3            00000013-989b-460c-93a4-4c557f350e86   \n",
       "4                                           false   \n",
       "5                                           false   \n",
       "6                                           false   \n",
       "7                                           false   \n",
       "8                                             0.5   \n",
       "9                                      1996-01-19   \n",
       "10                                                  \n",
       "11                                       Fandango   \n",
       "12                                     -100016731   \n",
       "\n",
       "                                     max  approx_unique                 avg  \\\n",
       "0   fffacf6b-eb34-3a4c-b461-5548a6bfaea7           9805                None   \n",
       "1                                    5.0             11  3.6682733746136207   \n",
       "2                     🫶🏽🫶🏽🫶🏽🫶🏽🫶🏽🫶🏽🫶🏽🫶🏽🫶🏽       47952236                None   \n",
       "3   fffffcc4-bcab-4083-b025-cdaaee29e788        9705933                None   \n",
       "4                                   true              2                None   \n",
       "5                                   true              2                None   \n",
       "6                                   true              2                None   \n",
       "7                                   true              2                None   \n",
       "8                                    5.0             11  3.6682733746136207   \n",
       "9                             2024-07-17           7748                None   \n",
       "10                                    🫡🫡         372018                None   \n",
       "11                                    RT              3                None   \n",
       "12  ffffeada-64d2-4f9d-88b0-c5a47db4dd22        7517535                None   \n",
       "\n",
       "                   std         q25         q50               q75     count  \\\n",
       "0                 None        None        None              None  55130430   \n",
       "1   1.2579098520388428         3.0         4.0  4.99999852160044  55130430   \n",
       "2                 None        None        None              None  55130430   \n",
       "3                 None        None        None              None  55130430   \n",
       "4                 None        None        None              None  55130430   \n",
       "5                 None        None        None              None  55130430   \n",
       "6                 None        None        None              None  55130430   \n",
       "7                 None        None        None              None  55130430   \n",
       "8   1.2579098520388428         3.0         4.0  4.99999852160044  55130430   \n",
       "9                 None  2007-06-05  2007-10-12        2008-11-11  55130430   \n",
       "10                None        None        None              None  55130430   \n",
       "11                None        None        None              None  55130430   \n",
       "12                None        None        None              None  55130430   \n",
       "\n",
       "    null_percentage  \n",
       "0              0.00  \n",
       "1              0.00  \n",
       "2              0.00  \n",
       "3             77.05  \n",
       "4              0.00  \n",
       "5              0.00  \n",
       "6              0.00  \n",
       "7              0.00  \n",
       "8              0.00  \n",
       "9              0.00  \n",
       "10            96.42  \n",
       "11             0.00  \n",
       "12             0.00  "
      ]
     },
     "execution_count": 10,
     "metadata": {},
     "output_type": "execute_result"
    }
   ],
   "source": [
    "duck_df.to_df() "
   ]
  },
  {
   "cell_type": "code",
   "execution_count": 11,
   "id": "ce46f834-bf7c-43a0-b0f0-9b9c0ae96e59",
   "metadata": {},
   "outputs": [
    {
     "data": {
      "text/plain": [
       "Index(['movieId', 'rating', 'quote', 'reviewId', 'isVerified',\n",
       "       'isSuperReviewer', 'hasSpoilers', 'hasProfanity', 'score',\n",
       "       'creationDate', 'userDisplayName', 'userRealm', 'userId'],\n",
       "      dtype='object')"
      ]
     },
     "execution_count": 11,
     "metadata": {},
     "output_type": "execute_result"
    }
   ],
   "source": [
    "# columnas\n",
    "columnas_df=conexion.query(\n",
    "\"\"\"\n",
    "    SELECT * FROM USER_REVIEWS LIMIT 1;\n",
    "\"\"\"\n",
    ")\n",
    "c = columnas_df.to_df() \n",
    "c.columns"
   ]
  },
  {
   "cell_type": "markdown",
   "id": "f68ab531",
   "metadata": {},
   "source": [
    "### 2. MOVIES"
   ]
  },
  {
   "cell_type": "code",
   "execution_count": 12,
   "id": "85a391fa",
   "metadata": {},
   "outputs": [],
   "source": [
    "#Creamos la tabla\n",
    "conexion.query(\n",
    "\"\"\"\n",
    "CREATE TABLE MOVIES AS\n",
    "SELECT * FROM './movies.csv'\n",
    "\"\"\"\n",
    ")"
   ]
  },
  {
   "cell_type": "code",
   "execution_count": 13,
   "id": "c016c8fd",
   "metadata": {},
   "outputs": [],
   "source": [
    "#Resumen\n",
    "duck2_df=conexion.query(\n",
    "\"\"\"\n",
    "    SUMMARIZE SELECT * FROM MOVIES;\n",
    "\"\"\"\n",
    ")"
   ]
  },
  {
   "cell_type": "code",
   "execution_count": 14,
   "id": "504be460",
   "metadata": {},
   "outputs": [
    {
     "data": {
      "text/html": [
       "<div>\n",
       "<style scoped>\n",
       "    .dataframe tbody tr th:only-of-type {\n",
       "        vertical-align: middle;\n",
       "    }\n",
       "\n",
       "    .dataframe tbody tr th {\n",
       "        vertical-align: top;\n",
       "    }\n",
       "\n",
       "    .dataframe thead th {\n",
       "        text-align: right;\n",
       "    }\n",
       "</style>\n",
       "<table border=\"1\" class=\"dataframe\">\n",
       "  <thead>\n",
       "    <tr style=\"text-align: right;\">\n",
       "      <th></th>\n",
       "      <th>column_name</th>\n",
       "      <th>column_type</th>\n",
       "      <th>min</th>\n",
       "      <th>max</th>\n",
       "      <th>approx_unique</th>\n",
       "      <th>avg</th>\n",
       "      <th>std</th>\n",
       "      <th>q25</th>\n",
       "      <th>q50</th>\n",
       "      <th>q75</th>\n",
       "      <th>count</th>\n",
       "      <th>null_percentage</th>\n",
       "    </tr>\n",
       "  </thead>\n",
       "  <tbody>\n",
       "    <tr>\n",
       "      <th>0</th>\n",
       "      <td>movieId</td>\n",
       "      <td>VARCHAR</td>\n",
       "      <td>0009c18f-a374-3d9d-a7da-ad5395b67b13</td>\n",
       "      <td>fffacf6b-eb34-3a4c-b461-5548a6bfaea7</td>\n",
       "      <td>9557</td>\n",
       "      <td>None</td>\n",
       "      <td>None</td>\n",
       "      <td>None</td>\n",
       "      <td>None</td>\n",
       "      <td>None</td>\n",
       "      <td>10233</td>\n",
       "      <td>0.00</td>\n",
       "    </tr>\n",
       "    <tr>\n",
       "      <th>1</th>\n",
       "      <td>movieYear</td>\n",
       "      <td>BIGINT</td>\n",
       "      <td>1902</td>\n",
       "      <td>2024</td>\n",
       "      <td>123</td>\n",
       "      <td>2008.3660705560442</td>\n",
       "      <td>16.77052352532826</td>\n",
       "      <td>2003</td>\n",
       "      <td>2014</td>\n",
       "      <td>2020</td>\n",
       "      <td>10233</td>\n",
       "      <td>0.00</td>\n",
       "    </tr>\n",
       "    <tr>\n",
       "      <th>2</th>\n",
       "      <td>movieURL</td>\n",
       "      <td>VARCHAR</td>\n",
       "      <td>https://www.rottentomatoes.com/m/0814255</td>\n",
       "      <td>https://www.rottentomatoes.com/m/zulu_dawn</td>\n",
       "      <td>10947</td>\n",
       "      <td>None</td>\n",
       "      <td>None</td>\n",
       "      <td>None</td>\n",
       "      <td>None</td>\n",
       "      <td>None</td>\n",
       "      <td>10233</td>\n",
       "      <td>0.00</td>\n",
       "    </tr>\n",
       "    <tr>\n",
       "      <th>3</th>\n",
       "      <td>movieTitle</td>\n",
       "      <td>VARCHAR</td>\n",
       "      <td>\"Sr.\"</td>\n",
       "      <td>mother!</td>\n",
       "      <td>10556</td>\n",
       "      <td>None</td>\n",
       "      <td>None</td>\n",
       "      <td>None</td>\n",
       "      <td>None</td>\n",
       "      <td>None</td>\n",
       "      <td>10233</td>\n",
       "      <td>0.00</td>\n",
       "    </tr>\n",
       "    <tr>\n",
       "      <th>4</th>\n",
       "      <td>critic_score</td>\n",
       "      <td>DOUBLE</td>\n",
       "      <td>0.0</td>\n",
       "      <td>100.0</td>\n",
       "      <td>134</td>\n",
       "      <td>63.66543438077634</td>\n",
       "      <td>27.918652620391345</td>\n",
       "      <td>41.61485563792431</td>\n",
       "      <td>70.18226087427452</td>\n",
       "      <td>87.93445878848063</td>\n",
       "      <td>10233</td>\n",
       "      <td>4.84</td>\n",
       "    </tr>\n",
       "    <tr>\n",
       "      <th>5</th>\n",
       "      <td>critic_sentiment</td>\n",
       "      <td>VARCHAR</td>\n",
       "      <td>negative</td>\n",
       "      <td>positive</td>\n",
       "      <td>2</td>\n",
       "      <td>None</td>\n",
       "      <td>None</td>\n",
       "      <td>None</td>\n",
       "      <td>None</td>\n",
       "      <td>None</td>\n",
       "      <td>10233</td>\n",
       "      <td>4.84</td>\n",
       "    </tr>\n",
       "    <tr>\n",
       "      <th>6</th>\n",
       "      <td>audience_score</td>\n",
       "      <td>DOUBLE</td>\n",
       "      <td>0.0</td>\n",
       "      <td>100.0</td>\n",
       "      <td>134</td>\n",
       "      <td>64.36070583596215</td>\n",
       "      <td>20.85482459049245</td>\n",
       "      <td>48.978955407305996</td>\n",
       "      <td>67.19822862220198</td>\n",
       "      <td>81.70712669683257</td>\n",
       "      <td>10233</td>\n",
       "      <td>0.87</td>\n",
       "    </tr>\n",
       "    <tr>\n",
       "      <th>7</th>\n",
       "      <td>audience_sentiment</td>\n",
       "      <td>VARCHAR</td>\n",
       "      <td>negative</td>\n",
       "      <td>positive</td>\n",
       "      <td>2</td>\n",
       "      <td>None</td>\n",
       "      <td>None</td>\n",
       "      <td>None</td>\n",
       "      <td>None</td>\n",
       "      <td>None</td>\n",
       "      <td>10233</td>\n",
       "      <td>0.87</td>\n",
       "    </tr>\n",
       "    <tr>\n",
       "      <th>8</th>\n",
       "      <td>release_date_theaters</td>\n",
       "      <td>VARCHAR</td>\n",
       "      <td>Apr 1, 1923, Wide</td>\n",
       "      <td>Sep 9, 2022, Wide</td>\n",
       "      <td>4398</td>\n",
       "      <td>None</td>\n",
       "      <td>None</td>\n",
       "      <td>None</td>\n",
       "      <td>None</td>\n",
       "      <td>None</td>\n",
       "      <td>10233</td>\n",
       "      <td>22.53</td>\n",
       "    </tr>\n",
       "    <tr>\n",
       "      <th>9</th>\n",
       "      <td>release_date_streaming</td>\n",
       "      <td>VARCHAR</td>\n",
       "      <td>Apr 1, 2008</td>\n",
       "      <td>Sep 9, 2022</td>\n",
       "      <td>2485</td>\n",
       "      <td>None</td>\n",
       "      <td>None</td>\n",
       "      <td>None</td>\n",
       "      <td>None</td>\n",
       "      <td>None</td>\n",
       "      <td>10233</td>\n",
       "      <td>0.00</td>\n",
       "    </tr>\n",
       "    <tr>\n",
       "      <th>10</th>\n",
       "      <td>rating</td>\n",
       "      <td>VARCHAR</td>\n",
       "      <td>G</td>\n",
       "      <td>TV-Y7</td>\n",
       "      <td>3969</td>\n",
       "      <td>None</td>\n",
       "      <td>None</td>\n",
       "      <td>None</td>\n",
       "      <td>None</td>\n",
       "      <td>None</td>\n",
       "      <td>10233</td>\n",
       "      <td>24.19</td>\n",
       "    </tr>\n",
       "    <tr>\n",
       "      <th>11</th>\n",
       "      <td>original_language</td>\n",
       "      <td>VARCHAR</td>\n",
       "      <td>Afrikaans</td>\n",
       "      <td>Zulu</td>\n",
       "      <td>80</td>\n",
       "      <td>None</td>\n",
       "      <td>None</td>\n",
       "      <td>None</td>\n",
       "      <td>None</td>\n",
       "      <td>None</td>\n",
       "      <td>10233</td>\n",
       "      <td>0.19</td>\n",
       "    </tr>\n",
       "    <tr>\n",
       "      <th>12</th>\n",
       "      <td>runtime</td>\n",
       "      <td>VARCHAR</td>\n",
       "      <td>12m</td>\n",
       "      <td>5h 17m</td>\n",
       "      <td>165</td>\n",
       "      <td>None</td>\n",
       "      <td>None</td>\n",
       "      <td>None</td>\n",
       "      <td>None</td>\n",
       "      <td>None</td>\n",
       "      <td>10233</td>\n",
       "      <td>0.17</td>\n",
       "    </tr>\n",
       "  </tbody>\n",
       "</table>\n",
       "</div>"
      ],
      "text/plain": [
       "               column_name column_type  \\\n",
       "0                  movieId     VARCHAR   \n",
       "1                movieYear      BIGINT   \n",
       "2                 movieURL     VARCHAR   \n",
       "3               movieTitle     VARCHAR   \n",
       "4             critic_score      DOUBLE   \n",
       "5         critic_sentiment     VARCHAR   \n",
       "6           audience_score      DOUBLE   \n",
       "7       audience_sentiment     VARCHAR   \n",
       "8    release_date_theaters     VARCHAR   \n",
       "9   release_date_streaming     VARCHAR   \n",
       "10                  rating     VARCHAR   \n",
       "11       original_language     VARCHAR   \n",
       "12                 runtime     VARCHAR   \n",
       "\n",
       "                                         min  \\\n",
       "0       0009c18f-a374-3d9d-a7da-ad5395b67b13   \n",
       "1                                       1902   \n",
       "2   https://www.rottentomatoes.com/m/0814255   \n",
       "3                                      \"Sr.\"   \n",
       "4                                        0.0   \n",
       "5                                   negative   \n",
       "6                                        0.0   \n",
       "7                                   negative   \n",
       "8                          Apr 1, 1923, Wide   \n",
       "9                                Apr 1, 2008   \n",
       "10                                         G   \n",
       "11                                 Afrikaans   \n",
       "12                                       12m   \n",
       "\n",
       "                                           max  approx_unique  \\\n",
       "0         fffacf6b-eb34-3a4c-b461-5548a6bfaea7           9557   \n",
       "1                                         2024            123   \n",
       "2   https://www.rottentomatoes.com/m/zulu_dawn          10947   \n",
       "3                                      mother!          10556   \n",
       "4                                        100.0            134   \n",
       "5                                     positive              2   \n",
       "6                                        100.0            134   \n",
       "7                                     positive              2   \n",
       "8                            Sep 9, 2022, Wide           4398   \n",
       "9                                  Sep 9, 2022           2485   \n",
       "10                                       TV-Y7           3969   \n",
       "11                                        Zulu             80   \n",
       "12                                      5h 17m            165   \n",
       "\n",
       "                   avg                 std                 q25  \\\n",
       "0                 None                None                None   \n",
       "1   2008.3660705560442   16.77052352532826                2003   \n",
       "2                 None                None                None   \n",
       "3                 None                None                None   \n",
       "4    63.66543438077634  27.918652620391345   41.61485563792431   \n",
       "5                 None                None                None   \n",
       "6    64.36070583596215   20.85482459049245  48.978955407305996   \n",
       "7                 None                None                None   \n",
       "8                 None                None                None   \n",
       "9                 None                None                None   \n",
       "10                None                None                None   \n",
       "11                None                None                None   \n",
       "12                None                None                None   \n",
       "\n",
       "                  q50                q75  count  null_percentage  \n",
       "0                None               None  10233             0.00  \n",
       "1                2014               2020  10233             0.00  \n",
       "2                None               None  10233             0.00  \n",
       "3                None               None  10233             0.00  \n",
       "4   70.18226087427452  87.93445878848063  10233             4.84  \n",
       "5                None               None  10233             4.84  \n",
       "6   67.19822862220198  81.70712669683257  10233             0.87  \n",
       "7                None               None  10233             0.87  \n",
       "8                None               None  10233            22.53  \n",
       "9                None               None  10233             0.00  \n",
       "10               None               None  10233            24.19  \n",
       "11               None               None  10233             0.19  \n",
       "12               None               None  10233             0.17  "
      ]
     },
     "execution_count": 14,
     "metadata": {},
     "output_type": "execute_result"
    }
   ],
   "source": [
    "duck2_df.to_df() "
   ]
  },
  {
   "cell_type": "code",
   "execution_count": 15,
   "id": "969ad09d-9a91-4b0b-80c6-d9de4fd553f3",
   "metadata": {},
   "outputs": [
    {
     "data": {
      "text/plain": [
       "Index(['movieId', 'movieYear', 'movieURL', 'movieTitle', 'critic_score',\n",
       "       'critic_sentiment', 'audience_score', 'audience_sentiment',\n",
       "       'release_date_theaters', 'release_date_streaming', 'rating',\n",
       "       'original_language', 'runtime'],\n",
       "      dtype='object')"
      ]
     },
     "execution_count": 15,
     "metadata": {},
     "output_type": "execute_result"
    }
   ],
   "source": [
    "# columnas\n",
    "columnas_df=conexion.query(\n",
    "\"\"\"\n",
    "    SELECT * FROM MOVIES LIMIT 1;\n",
    "\"\"\"\n",
    ")\n",
    "c = columnas_df.to_df() \n",
    "c.columns"
   ]
  },
  {
   "cell_type": "markdown",
   "id": "cbda8f0d",
   "metadata": {},
   "source": [
    "### 3. CRITIC_REVIEWS"
   ]
  },
  {
   "cell_type": "code",
   "execution_count": 16,
   "id": "c57ecf4e",
   "metadata": {},
   "outputs": [],
   "source": [
    "#Creamos la tabla\n",
    "conexion.query(\n",
    "\"\"\"\n",
    "CREATE TABLE CRITIC_REVIEWS AS\n",
    "SELECT * FROM './critic_reviews.csv'\n",
    "\"\"\"\n",
    ")"
   ]
  },
  {
   "cell_type": "code",
   "execution_count": 17,
   "id": "1404b169",
   "metadata": {},
   "outputs": [],
   "source": [
    "#Resumen\n",
    "duck3_df=conexion.query(\n",
    "\"\"\"\n",
    "    SUMMARIZE SELECT * FROM CRITIC_REVIEWS;\n",
    "\"\"\"\n",
    ")"
   ]
  },
  {
   "cell_type": "code",
   "execution_count": 18,
   "id": "c9348f30",
   "metadata": {},
   "outputs": [
    {
     "data": {
      "text/html": [
       "<div>\n",
       "<style scoped>\n",
       "    .dataframe tbody tr th:only-of-type {\n",
       "        vertical-align: middle;\n",
       "    }\n",
       "\n",
       "    .dataframe tbody tr th {\n",
       "        vertical-align: top;\n",
       "    }\n",
       "\n",
       "    .dataframe thead th {\n",
       "        text-align: right;\n",
       "    }\n",
       "</style>\n",
       "<table border=\"1\" class=\"dataframe\">\n",
       "  <thead>\n",
       "    <tr style=\"text-align: right;\">\n",
       "      <th></th>\n",
       "      <th>column_name</th>\n",
       "      <th>column_type</th>\n",
       "      <th>min</th>\n",
       "      <th>max</th>\n",
       "      <th>approx_unique</th>\n",
       "      <th>avg</th>\n",
       "      <th>std</th>\n",
       "      <th>q25</th>\n",
       "      <th>q50</th>\n",
       "      <th>q75</th>\n",
       "      <th>count</th>\n",
       "      <th>null_percentage</th>\n",
       "    </tr>\n",
       "  </thead>\n",
       "  <tbody>\n",
       "    <tr>\n",
       "      <th>0</th>\n",
       "      <td>reviewId</td>\n",
       "      <td>BIGINT</td>\n",
       "      <td>1</td>\n",
       "      <td>102931223</td>\n",
       "      <td>937665</td>\n",
       "      <td>16090020.53292082</td>\n",
       "      <td>34981840.70628164</td>\n",
       "      <td>1741531</td>\n",
       "      <td>2284816</td>\n",
       "      <td>2676377</td>\n",
       "      <td>967564</td>\n",
       "      <td>0.00</td>\n",
       "    </tr>\n",
       "    <tr>\n",
       "      <th>1</th>\n",
       "      <td>movieId</td>\n",
       "      <td>VARCHAR</td>\n",
       "      <td>0009c18f-a374-3d9d-a7da-ad5395b67b13</td>\n",
       "      <td>fffacf6b-eb34-3a4c-b461-5548a6bfaea7</td>\n",
       "      <td>9557</td>\n",
       "      <td>None</td>\n",
       "      <td>None</td>\n",
       "      <td>None</td>\n",
       "      <td>None</td>\n",
       "      <td>None</td>\n",
       "      <td>967564</td>\n",
       "      <td>0.00</td>\n",
       "    </tr>\n",
       "    <tr>\n",
       "      <th>2</th>\n",
       "      <td>creationDate</td>\n",
       "      <td>DATE</td>\n",
       "      <td>1800-01-01</td>\n",
       "      <td>2024-07-16</td>\n",
       "      <td>8608</td>\n",
       "      <td>None</td>\n",
       "      <td>None</td>\n",
       "      <td>2008-05-12</td>\n",
       "      <td>2015-10-31</td>\n",
       "      <td>2020-03-08</td>\n",
       "      <td>967564</td>\n",
       "      <td>0.00</td>\n",
       "    </tr>\n",
       "    <tr>\n",
       "      <th>3</th>\n",
       "      <td>criticName</td>\n",
       "      <td>VARCHAR</td>\n",
       "      <td>Anjolie Therrien</td>\n",
       "      <td>Éric Rohmer</td>\n",
       "      <td>10536</td>\n",
       "      <td>None</td>\n",
       "      <td>None</td>\n",
       "      <td>None</td>\n",
       "      <td>None</td>\n",
       "      <td>None</td>\n",
       "      <td>967564</td>\n",
       "      <td>0.98</td>\n",
       "    </tr>\n",
       "    <tr>\n",
       "      <th>4</th>\n",
       "      <td>criticPageUrl</td>\n",
       "      <td>VARCHAR</td>\n",
       "      <td>/critics/-jose-homero-</td>\n",
       "      <td>/critics/zosia-bielski</td>\n",
       "      <td>12330</td>\n",
       "      <td>None</td>\n",
       "      <td>None</td>\n",
       "      <td>None</td>\n",
       "      <td>None</td>\n",
       "      <td>None</td>\n",
       "      <td>967564</td>\n",
       "      <td>0.98</td>\n",
       "    </tr>\n",
       "    <tr>\n",
       "      <th>5</th>\n",
       "      <td>reviewState</td>\n",
       "      <td>VARCHAR</td>\n",
       "      <td>fresh</td>\n",
       "      <td>rotten</td>\n",
       "      <td>2</td>\n",
       "      <td>None</td>\n",
       "      <td>None</td>\n",
       "      <td>None</td>\n",
       "      <td>None</td>\n",
       "      <td>None</td>\n",
       "      <td>967564</td>\n",
       "      <td>0.00</td>\n",
       "    </tr>\n",
       "    <tr>\n",
       "      <th>6</th>\n",
       "      <td>isFresh</td>\n",
       "      <td>BOOLEAN</td>\n",
       "      <td>false</td>\n",
       "      <td>true</td>\n",
       "      <td>2</td>\n",
       "      <td>None</td>\n",
       "      <td>None</td>\n",
       "      <td>None</td>\n",
       "      <td>None</td>\n",
       "      <td>None</td>\n",
       "      <td>967564</td>\n",
       "      <td>0.00</td>\n",
       "    </tr>\n",
       "    <tr>\n",
       "      <th>7</th>\n",
       "      <td>isRotten</td>\n",
       "      <td>BOOLEAN</td>\n",
       "      <td>false</td>\n",
       "      <td>true</td>\n",
       "      <td>2</td>\n",
       "      <td>None</td>\n",
       "      <td>None</td>\n",
       "      <td>None</td>\n",
       "      <td>None</td>\n",
       "      <td>None</td>\n",
       "      <td>967564</td>\n",
       "      <td>0.00</td>\n",
       "    </tr>\n",
       "    <tr>\n",
       "      <th>8</th>\n",
       "      <td>isRtUrl</td>\n",
       "      <td>BOOLEAN</td>\n",
       "      <td>false</td>\n",
       "      <td>true</td>\n",
       "      <td>2</td>\n",
       "      <td>None</td>\n",
       "      <td>None</td>\n",
       "      <td>None</td>\n",
       "      <td>None</td>\n",
       "      <td>None</td>\n",
       "      <td>967564</td>\n",
       "      <td>5.84</td>\n",
       "    </tr>\n",
       "    <tr>\n",
       "      <th>9</th>\n",
       "      <td>isTopCritic</td>\n",
       "      <td>BOOLEAN</td>\n",
       "      <td>false</td>\n",
       "      <td>true</td>\n",
       "      <td>2</td>\n",
       "      <td>None</td>\n",
       "      <td>None</td>\n",
       "      <td>None</td>\n",
       "      <td>None</td>\n",
       "      <td>None</td>\n",
       "      <td>967564</td>\n",
       "      <td>0.00</td>\n",
       "    </tr>\n",
       "    <tr>\n",
       "      <th>10</th>\n",
       "      <td>publicationUrl</td>\n",
       "      <td>VARCHAR</td>\n",
       "      <td>/critics/source/1000</td>\n",
       "      <td>/critics/source/999</td>\n",
       "      <td>2873</td>\n",
       "      <td>None</td>\n",
       "      <td>None</td>\n",
       "      <td>None</td>\n",
       "      <td>None</td>\n",
       "      <td>None</td>\n",
       "      <td>967564</td>\n",
       "      <td>0.00</td>\n",
       "    </tr>\n",
       "    <tr>\n",
       "      <th>11</th>\n",
       "      <td>publicationName</td>\n",
       "      <td>VARCHAR</td>\n",
       "      <td>(All (Parentheses))</td>\n",
       "      <td>ÜberCiné</td>\n",
       "      <td>2250</td>\n",
       "      <td>None</td>\n",
       "      <td>None</td>\n",
       "      <td>None</td>\n",
       "      <td>None</td>\n",
       "      <td>None</td>\n",
       "      <td>967564</td>\n",
       "      <td>0.00</td>\n",
       "    </tr>\n",
       "    <tr>\n",
       "      <th>12</th>\n",
       "      <td>reviewUrl</td>\n",
       "      <td>VARCHAR</td>\n",
       "      <td>\\r\\n\\r\\nhttp://www.cinerina.com/reviews.htm</td>\n",
       "      <td>…an unnerving and challenging work of nihilist...</td>\n",
       "      <td>607007</td>\n",
       "      <td>None</td>\n",
       "      <td>None</td>\n",
       "      <td>None</td>\n",
       "      <td>None</td>\n",
       "      <td>None</td>\n",
       "      <td>967564</td>\n",
       "      <td>12.16</td>\n",
       "    </tr>\n",
       "    <tr>\n",
       "      <th>13</th>\n",
       "      <td>quote</td>\n",
       "      <td>VARCHAR</td>\n",
       "      <td>\\nIf long, loud and ludicrous is your kind of ...</td>\n",
       "      <td>…the only thing these Oscar-ized actors are lo...</td>\n",
       "      <td>1052544</td>\n",
       "      <td>None</td>\n",
       "      <td>None</td>\n",
       "      <td>None</td>\n",
       "      <td>None</td>\n",
       "      <td>None</td>\n",
       "      <td>967564</td>\n",
       "      <td>3.41</td>\n",
       "    </tr>\n",
       "    <tr>\n",
       "      <th>14</th>\n",
       "      <td>scoreSentiment</td>\n",
       "      <td>VARCHAR</td>\n",
       "      <td>NEGATIVE</td>\n",
       "      <td>POSITIVE</td>\n",
       "      <td>2</td>\n",
       "      <td>None</td>\n",
       "      <td>None</td>\n",
       "      <td>None</td>\n",
       "      <td>None</td>\n",
       "      <td>None</td>\n",
       "      <td>967564</td>\n",
       "      <td>0.00</td>\n",
       "    </tr>\n",
       "    <tr>\n",
       "      <th>15</th>\n",
       "      <td>originalScore</td>\n",
       "      <td>VARCHAR</td>\n",
       "      <td></td>\n",
       "      <td>❤️</td>\n",
       "      <td>1070</td>\n",
       "      <td>None</td>\n",
       "      <td>None</td>\n",
       "      <td>None</td>\n",
       "      <td>None</td>\n",
       "      <td>None</td>\n",
       "      <td>967564</td>\n",
       "      <td>28.32</td>\n",
       "    </tr>\n",
       "  </tbody>\n",
       "</table>\n",
       "</div>"
      ],
      "text/plain": [
       "        column_name column_type  \\\n",
       "0          reviewId      BIGINT   \n",
       "1           movieId     VARCHAR   \n",
       "2      creationDate        DATE   \n",
       "3        criticName     VARCHAR   \n",
       "4     criticPageUrl     VARCHAR   \n",
       "5       reviewState     VARCHAR   \n",
       "6           isFresh     BOOLEAN   \n",
       "7          isRotten     BOOLEAN   \n",
       "8           isRtUrl     BOOLEAN   \n",
       "9       isTopCritic     BOOLEAN   \n",
       "10   publicationUrl     VARCHAR   \n",
       "11  publicationName     VARCHAR   \n",
       "12        reviewUrl     VARCHAR   \n",
       "13            quote     VARCHAR   \n",
       "14   scoreSentiment     VARCHAR   \n",
       "15    originalScore     VARCHAR   \n",
       "\n",
       "                                                  min  \\\n",
       "0                                                   1   \n",
       "1                0009c18f-a374-3d9d-a7da-ad5395b67b13   \n",
       "2                                          1800-01-01   \n",
       "3                                    Anjolie Therrien   \n",
       "4                              /critics/-jose-homero-   \n",
       "5                                               fresh   \n",
       "6                                               false   \n",
       "7                                               false   \n",
       "8                                               false   \n",
       "9                                               false   \n",
       "10                               /critics/source/1000   \n",
       "11                                (All (Parentheses))   \n",
       "12        \\r\\n\\r\\nhttp://www.cinerina.com/reviews.htm   \n",
       "13  \\nIf long, loud and ludicrous is your kind of ...   \n",
       "14                                           NEGATIVE   \n",
       "15                                                      \n",
       "\n",
       "                                                  max  approx_unique  \\\n",
       "0                                           102931223         937665   \n",
       "1                fffacf6b-eb34-3a4c-b461-5548a6bfaea7           9557   \n",
       "2                                          2024-07-16           8608   \n",
       "3                                         Éric Rohmer          10536   \n",
       "4                              /critics/zosia-bielski          12330   \n",
       "5                                              rotten              2   \n",
       "6                                                true              2   \n",
       "7                                                true              2   \n",
       "8                                                true              2   \n",
       "9                                                true              2   \n",
       "10                                /critics/source/999           2873   \n",
       "11                                           ÜberCiné           2250   \n",
       "12  …an unnerving and challenging work of nihilist...         607007   \n",
       "13  …the only thing these Oscar-ized actors are lo...        1052544   \n",
       "14                                           POSITIVE              2   \n",
       "15                                                 ❤️           1070   \n",
       "\n",
       "                  avg                std         q25         q50         q75  \\\n",
       "0   16090020.53292082  34981840.70628164     1741531     2284816     2676377   \n",
       "1                None               None        None        None        None   \n",
       "2                None               None  2008-05-12  2015-10-31  2020-03-08   \n",
       "3                None               None        None        None        None   \n",
       "4                None               None        None        None        None   \n",
       "5                None               None        None        None        None   \n",
       "6                None               None        None        None        None   \n",
       "7                None               None        None        None        None   \n",
       "8                None               None        None        None        None   \n",
       "9                None               None        None        None        None   \n",
       "10               None               None        None        None        None   \n",
       "11               None               None        None        None        None   \n",
       "12               None               None        None        None        None   \n",
       "13               None               None        None        None        None   \n",
       "14               None               None        None        None        None   \n",
       "15               None               None        None        None        None   \n",
       "\n",
       "     count  null_percentage  \n",
       "0   967564             0.00  \n",
       "1   967564             0.00  \n",
       "2   967564             0.00  \n",
       "3   967564             0.98  \n",
       "4   967564             0.98  \n",
       "5   967564             0.00  \n",
       "6   967564             0.00  \n",
       "7   967564             0.00  \n",
       "8   967564             5.84  \n",
       "9   967564             0.00  \n",
       "10  967564             0.00  \n",
       "11  967564             0.00  \n",
       "12  967564            12.16  \n",
       "13  967564             3.41  \n",
       "14  967564             0.00  \n",
       "15  967564            28.32  "
      ]
     },
     "execution_count": 18,
     "metadata": {},
     "output_type": "execute_result"
    }
   ],
   "source": [
    "duck3_df.to_df() "
   ]
  },
  {
   "cell_type": "code",
   "execution_count": 19,
   "id": "b0868dab-1b2a-488c-92f9-129a11127ea0",
   "metadata": {},
   "outputs": [
    {
     "data": {
      "text/plain": [
       "Index(['reviewId', 'movieId', 'creationDate', 'criticName', 'criticPageUrl',\n",
       "       'reviewState', 'isFresh', 'isRotten', 'isRtUrl', 'isTopCritic',\n",
       "       'publicationUrl', 'publicationName', 'reviewUrl', 'quote',\n",
       "       'scoreSentiment', 'originalScore'],\n",
       "      dtype='object')"
      ]
     },
     "execution_count": 19,
     "metadata": {},
     "output_type": "execute_result"
    }
   ],
   "source": [
    "# columnas\n",
    "columnas_df=conexion.query(\n",
    "\"\"\"\n",
    "    SELECT * FROM CRITIC_REVIEWS LIMIT 1;\n",
    "\"\"\"\n",
    ")\n",
    "c = columnas_df.to_df() \n",
    "c.columns"
   ]
  },
  {
   "cell_type": "code",
   "execution_count": 20,
   "id": "e5e98abc-a99f-4241-84c5-fbae6123ebd5",
   "metadata": {
    "scrolled": true
   },
   "outputs": [
    {
     "name": "stdout",
     "output_type": "stream",
     "text": [
      "686.3053081035614\n"
     ]
    }
   ],
   "source": [
    "tiempoFinal = time.time()\n",
    "tiempoTotal = tiempoFinal - tiempoInicio\n",
    "print(tiempoTotal)"
   ]
  },
  {
   "cell_type": "code",
   "execution_count": 21,
   "id": "5c1fd2bb-40dd-4c04-a98c-233f0c397b6b",
   "metadata": {},
   "outputs": [],
   "source": [
    "#Medir tiempo\n",
    "import time\n",
    "\n",
    "tiempoInicio2 = time.time()"
   ]
  },
  {
   "cell_type": "markdown",
   "id": "435cfd05",
   "metadata": {},
   "source": [
    "### COMPONENTE A: Análisis Exploratorio de Datos (EDA)\n"
   ]
  },
  {
   "cell_type": "markdown",
   "id": "199a3cd1-67d5-4bae-b594-cdaf249b0ba9",
   "metadata": {},
   "source": [
    "- En todos los proyectos los estudiantes deberán realizar, en Polars o DuckDB, un análisis exploratorio a los datos. \n",
    "- Los análisis a realizar son a discreción de los estudiantes. Idealmente utilizarán los conocimientos aprendidos a lo largo de todos los módulos del bootcamp para elegir los análisis más relevantes.\n"
   ]
  },
  {
   "cell_type": "markdown",
   "id": "7324d9ec-e88d-459d-ab64-c098a67160f3",
   "metadata": {},
   "source": [
    "### Obtener estadísticas básicas de las películas"
   ]
  },
  {
   "cell_type": "code",
   "execution_count": 22,
   "id": "4bf9e706-c5eb-470a-aa65-d28c74325ba8",
   "metadata": {},
   "outputs": [
    {
     "data": {
      "text/html": [
       "<div>\n",
       "<style scoped>\n",
       "    .dataframe tbody tr th:only-of-type {\n",
       "        vertical-align: middle;\n",
       "    }\n",
       "\n",
       "    .dataframe tbody tr th {\n",
       "        vertical-align: top;\n",
       "    }\n",
       "\n",
       "    .dataframe thead th {\n",
       "        text-align: right;\n",
       "    }\n",
       "</style>\n",
       "<table border=\"1\" class=\"dataframe\">\n",
       "  <thead>\n",
       "    <tr style=\"text-align: right;\">\n",
       "      <th></th>\n",
       "      <th>total_movies</th>\n",
       "      <th>unique_years</th>\n",
       "      <th>avg_critic_score</th>\n",
       "      <th>avg_audience_score</th>\n",
       "      <th>earliest_year</th>\n",
       "      <th>latest_year</th>\n",
       "    </tr>\n",
       "  </thead>\n",
       "  <tbody>\n",
       "    <tr>\n",
       "      <th>0</th>\n",
       "      <td>10233</td>\n",
       "      <td>105</td>\n",
       "      <td>63.665434</td>\n",
       "      <td>64.360706</td>\n",
       "      <td>1902</td>\n",
       "      <td>2024</td>\n",
       "    </tr>\n",
       "  </tbody>\n",
       "</table>\n",
       "</div>"
      ],
      "text/plain": [
       "   total_movies  unique_years  avg_critic_score  avg_audience_score  \\\n",
       "0         10233           105         63.665434           64.360706   \n",
       "\n",
       "   earliest_year  latest_year  \n",
       "0           1902         2024  "
      ]
     },
     "metadata": {},
     "output_type": "display_data"
    }
   ],
   "source": [
    "movies_stats = conexion.execute(\"\"\"\n",
    "    SELECT \n",
    "        COUNT(*) as total_movies,\n",
    "        COUNT(DISTINCT movieYear) as unique_years,\n",
    "        AVG(critic_score) as avg_critic_score,\n",
    "        AVG(audience_score) as avg_audience_score,\n",
    "        MIN(movieYear) as earliest_year,\n",
    "        MAX(movieYear) as latest_year\n",
    "    FROM MOVIES\n",
    "\"\"\").df()\n",
    "display(movies_stats)"
   ]
  },
  {
   "cell_type": "markdown",
   "id": "18226e11-2c4d-4d13-8497-3772b9894dc5",
   "metadata": {},
   "source": [
    "Hay un total de 10233 peliculas con un rango de registro de 105 años. El puntaje promedio de los criticos es 63 vs un 64 de la audiencia. La pelicula mas antigua registrada es de 1902 y la mas actual data del 2024."
   ]
  },
  {
   "cell_type": "markdown",
   "id": "6d66d30a",
   "metadata": {},
   "source": [
    "### Cantidad de review de críticos por película"
   ]
  },
  {
   "cell_type": "code",
   "execution_count": 23,
   "id": "6601ef62-8f23-4657-9f72-79e3e324b786",
   "metadata": {},
   "outputs": [
    {
     "data": {
      "text/html": [
       "<div>\n",
       "<style scoped>\n",
       "    .dataframe tbody tr th:only-of-type {\n",
       "        vertical-align: middle;\n",
       "    }\n",
       "\n",
       "    .dataframe tbody tr th {\n",
       "        vertical-align: top;\n",
       "    }\n",
       "\n",
       "    .dataframe thead th {\n",
       "        text-align: right;\n",
       "    }\n",
       "</style>\n",
       "<table border=\"1\" class=\"dataframe\">\n",
       "  <thead>\n",
       "    <tr style=\"text-align: right;\">\n",
       "      <th></th>\n",
       "      <th>movieTitle</th>\n",
       "      <th>num_reviews</th>\n",
       "    </tr>\n",
       "  </thead>\n",
       "  <tbody>\n",
       "    <tr>\n",
       "      <th>0</th>\n",
       "      <td>Beauty and the Beast</td>\n",
       "      <td>982</td>\n",
       "    </tr>\n",
       "    <tr>\n",
       "      <th>1</th>\n",
       "      <td>Three Billboards Outside Ebbing, Missouri</td>\n",
       "      <td>830</td>\n",
       "    </tr>\n",
       "    <tr>\n",
       "      <th>2</th>\n",
       "      <td>Candyman</td>\n",
       "      <td>752</td>\n",
       "    </tr>\n",
       "    <tr>\n",
       "      <th>3</th>\n",
       "      <td>Mulan</td>\n",
       "      <td>745</td>\n",
       "    </tr>\n",
       "    <tr>\n",
       "      <th>4</th>\n",
       "      <td>Fantastic Four</td>\n",
       "      <td>736</td>\n",
       "    </tr>\n",
       "    <tr>\n",
       "      <th>...</th>\n",
       "      <td>...</td>\n",
       "      <td>...</td>\n",
       "    </tr>\n",
       "    <tr>\n",
       "      <th>9852</th>\n",
       "      <td>Night Train</td>\n",
       "      <td>1</td>\n",
       "    </tr>\n",
       "    <tr>\n",
       "      <th>9853</th>\n",
       "      <td>Blue Mountain State: The Rise of Thadland</td>\n",
       "      <td>1</td>\n",
       "    </tr>\n",
       "    <tr>\n",
       "      <th>9854</th>\n",
       "      <td>Clinical</td>\n",
       "      <td>1</td>\n",
       "    </tr>\n",
       "    <tr>\n",
       "      <th>9855</th>\n",
       "      <td>A Muse</td>\n",
       "      <td>1</td>\n",
       "    </tr>\n",
       "    <tr>\n",
       "      <th>9856</th>\n",
       "      <td>Laid in America</td>\n",
       "      <td>1</td>\n",
       "    </tr>\n",
       "  </tbody>\n",
       "</table>\n",
       "<p>9857 rows × 2 columns</p>\n",
       "</div>"
      ],
      "text/plain": [
       "                                     movieTitle  num_reviews\n",
       "0                          Beauty and the Beast          982\n",
       "1     Three Billboards Outside Ebbing, Missouri          830\n",
       "2                                      Candyman          752\n",
       "3                                         Mulan          745\n",
       "4                                Fantastic Four          736\n",
       "...                                         ...          ...\n",
       "9852                                Night Train            1\n",
       "9853  Blue Mountain State: The Rise of Thadland            1\n",
       "9854                                   Clinical            1\n",
       "9855                                     A Muse            1\n",
       "9856                            Laid in America            1\n",
       "\n",
       "[9857 rows x 2 columns]"
      ]
     },
     "execution_count": 23,
     "metadata": {},
     "output_type": "execute_result"
    }
   ],
   "source": [
    "rp = conexion.query(\n",
    "\"\"\"\n",
    "SELECT M.movieTitle, COUNT(C.reviewId) as num_reviews\n",
    "FROM MOVIES M\n",
    "LEFT JOIN CRITIC_REVIEWS C\n",
    "ON M.movieId = C.movieId\n",
    "GROUP BY M.movieTitle\n",
    "ORDER BY num_reviews DESC;\n",
    "\"\"\"\n",
    ").df()\n",
    "rp"
   ]
  },
  {
   "cell_type": "markdown",
   "id": "ca1a1968-f9f8-4027-bf30-12645ada9078",
   "metadata": {},
   "source": [
    "Se observa que las películas que más han obtenido reviews de críticos son: Beauty and the Beast(982), Three Billboards Outside Ebbing, Missouri(830) y Candyman(752)."
   ]
  },
  {
   "cell_type": "markdown",
   "id": "ed3867b6-1222-4cf1-b98c-3b71b71df083",
   "metadata": {},
   "source": [
    "### Cantidad de reviews de críticos por año de película"
   ]
  },
  {
   "cell_type": "code",
   "execution_count": 24,
   "id": "5d60ff82-d407-47fd-9c15-0e24dfcefc91",
   "metadata": {},
   "outputs": [
    {
     "data": {
      "text/html": [
       "<div>\n",
       "<style scoped>\n",
       "    .dataframe tbody tr th:only-of-type {\n",
       "        vertical-align: middle;\n",
       "    }\n",
       "\n",
       "    .dataframe tbody tr th {\n",
       "        vertical-align: top;\n",
       "    }\n",
       "\n",
       "    .dataframe thead th {\n",
       "        text-align: right;\n",
       "    }\n",
       "</style>\n",
       "<table border=\"1\" class=\"dataframe\">\n",
       "  <thead>\n",
       "    <tr style=\"text-align: right;\">\n",
       "      <th></th>\n",
       "      <th>movieYear</th>\n",
       "      <th>cant_reviews</th>\n",
       "    </tr>\n",
       "  </thead>\n",
       "  <tbody>\n",
       "    <tr>\n",
       "      <th>0</th>\n",
       "      <td>2018</td>\n",
       "      <td>55369</td>\n",
       "    </tr>\n",
       "    <tr>\n",
       "      <th>1</th>\n",
       "      <td>2019</td>\n",
       "      <td>53918</td>\n",
       "    </tr>\n",
       "    <tr>\n",
       "      <th>2</th>\n",
       "      <td>2016</td>\n",
       "      <td>52021</td>\n",
       "    </tr>\n",
       "    <tr>\n",
       "      <th>3</th>\n",
       "      <td>2017</td>\n",
       "      <td>51688</td>\n",
       "    </tr>\n",
       "    <tr>\n",
       "      <th>4</th>\n",
       "      <td>2021</td>\n",
       "      <td>48880</td>\n",
       "    </tr>\n",
       "    <tr>\n",
       "      <th>...</th>\n",
       "      <td>...</td>\n",
       "      <td>...</td>\n",
       "    </tr>\n",
       "    <tr>\n",
       "      <th>100</th>\n",
       "      <td>1925</td>\n",
       "      <td>54</td>\n",
       "    </tr>\n",
       "    <tr>\n",
       "      <th>101</th>\n",
       "      <td>1926</td>\n",
       "      <td>50</td>\n",
       "    </tr>\n",
       "    <tr>\n",
       "      <th>102</th>\n",
       "      <td>1915</td>\n",
       "      <td>45</td>\n",
       "    </tr>\n",
       "    <tr>\n",
       "      <th>103</th>\n",
       "      <td>1929</td>\n",
       "      <td>43</td>\n",
       "    </tr>\n",
       "    <tr>\n",
       "      <th>104</th>\n",
       "      <td>1902</td>\n",
       "      <td>14</td>\n",
       "    </tr>\n",
       "  </tbody>\n",
       "</table>\n",
       "<p>105 rows × 2 columns</p>\n",
       "</div>"
      ],
      "text/plain": [
       "     movieYear  cant_reviews\n",
       "0         2018         55369\n",
       "1         2019         53918\n",
       "2         2016         52021\n",
       "3         2017         51688\n",
       "4         2021         48880\n",
       "..         ...           ...\n",
       "100       1925            54\n",
       "101       1926            50\n",
       "102       1915            45\n",
       "103       1929            43\n",
       "104       1902            14\n",
       "\n",
       "[105 rows x 2 columns]"
      ]
     },
     "execution_count": 24,
     "metadata": {},
     "output_type": "execute_result"
    }
   ],
   "source": [
    "reviews_año = conexion.query(\n",
    "\"\"\"\n",
    "SELECT M.movieYear, COUNT(C.reviewId) as cant_reviews\n",
    "FROM MOVIES M\n",
    "LEFT JOIN CRITIC_REVIEWS C\n",
    "ON M.movieId = C.movieId\n",
    "GROUP BY M.movieYear\n",
    "ORDER BY cant_reviews DESC;\n",
    "\"\"\"\n",
    ").df()\n",
    "reviews_año"
   ]
  },
  {
   "cell_type": "markdown",
   "id": "1b6040a8-3534-481e-a92c-2a317e661dce",
   "metadata": {},
   "source": [
    "Los años donde se han obtenido mayor cantidad de reviews de críticos son: 2018 con 55369 reviewws de críticos, 2019 con 53918 reviewws de críticos, y 2016 con 52021 reviewws de críticos."
   ]
  },
  {
   "cell_type": "markdown",
   "id": "f2ab552b-bf6f-42df-95c6-73b3a66aa7fa",
   "metadata": {},
   "source": [
    "### TOP 10 película con mayor Mediana de critic_score"
   ]
  },
  {
   "cell_type": "code",
   "execution_count": 25,
   "id": "f9a551c6",
   "metadata": {},
   "outputs": [
    {
     "data": {
      "text/html": [
       "<div>\n",
       "<style scoped>\n",
       "    .dataframe tbody tr th:only-of-type {\n",
       "        vertical-align: middle;\n",
       "    }\n",
       "\n",
       "    .dataframe tbody tr th {\n",
       "        vertical-align: top;\n",
       "    }\n",
       "\n",
       "    .dataframe thead th {\n",
       "        text-align: right;\n",
       "    }\n",
       "</style>\n",
       "<table border=\"1\" class=\"dataframe\">\n",
       "  <thead>\n",
       "    <tr style=\"text-align: right;\">\n",
       "      <th></th>\n",
       "      <th>movieTitle</th>\n",
       "      <th>M_score</th>\n",
       "    </tr>\n",
       "  </thead>\n",
       "  <tbody>\n",
       "    <tr>\n",
       "      <th>0</th>\n",
       "      <td>The Killers</td>\n",
       "      <td>100.0</td>\n",
       "    </tr>\n",
       "    <tr>\n",
       "      <th>1</th>\n",
       "      <td>Old Yeller</td>\n",
       "      <td>100.0</td>\n",
       "    </tr>\n",
       "    <tr>\n",
       "      <th>2</th>\n",
       "      <td>How to Steal a Million</td>\n",
       "      <td>100.0</td>\n",
       "    </tr>\n",
       "    <tr>\n",
       "      <th>3</th>\n",
       "      <td>Curse of the Demon</td>\n",
       "      <td>100.0</td>\n",
       "    </tr>\n",
       "    <tr>\n",
       "      <th>4</th>\n",
       "      <td>Red Headed Woman</td>\n",
       "      <td>100.0</td>\n",
       "    </tr>\n",
       "    <tr>\n",
       "      <th>5</th>\n",
       "      <td>Hara-Kiri</td>\n",
       "      <td>100.0</td>\n",
       "    </tr>\n",
       "    <tr>\n",
       "      <th>6</th>\n",
       "      <td>Ali: Fear Eats the Soul</td>\n",
       "      <td>100.0</td>\n",
       "    </tr>\n",
       "    <tr>\n",
       "      <th>7</th>\n",
       "      <td>Au Hasard Balthazar</td>\n",
       "      <td>100.0</td>\n",
       "    </tr>\n",
       "    <tr>\n",
       "      <th>8</th>\n",
       "      <td>Salt of the Earth</td>\n",
       "      <td>100.0</td>\n",
       "    </tr>\n",
       "    <tr>\n",
       "      <th>9</th>\n",
       "      <td>Shoeshine</td>\n",
       "      <td>100.0</td>\n",
       "    </tr>\n",
       "  </tbody>\n",
       "</table>\n",
       "</div>"
      ],
      "text/plain": [
       "                movieTitle  M_score\n",
       "0              The Killers    100.0\n",
       "1               Old Yeller    100.0\n",
       "2   How to Steal a Million    100.0\n",
       "3       Curse of the Demon    100.0\n",
       "4         Red Headed Woman    100.0\n",
       "5                Hara-Kiri    100.0\n",
       "6  Ali: Fear Eats the Soul    100.0\n",
       "7      Au Hasard Balthazar    100.0\n",
       "8        Salt of the Earth    100.0\n",
       "9                Shoeshine    100.0"
      ]
     },
     "execution_count": 25,
     "metadata": {},
     "output_type": "execute_result"
    }
   ],
   "source": [
    "base = conexion.query(\n",
    "\"\"\"\n",
    "SELECT movieTitle, MEDIAN(critic_score) as M_score\n",
    "FROM MOVIES \n",
    "GROUP BY movieTitle\n",
    "ORDER BY M_score DESC\n",
    "LIMIT 10;\n",
    "\"\"\").df()\n",
    "base"
   ]
  },
  {
   "cell_type": "markdown",
   "id": "f655bd25-fb79-4848-afb8-56e37f500846",
   "metadata": {},
   "source": [
    "### Distribución de ratings de clasificación de contenidos"
   ]
  },
  {
   "cell_type": "code",
   "execution_count": 26,
   "id": "5426f74b-5807-4fc1-bd53-ac1d564278ae",
   "metadata": {},
   "outputs": [
    {
     "data": {
      "text/html": [
       "<div>\n",
       "<style scoped>\n",
       "    .dataframe tbody tr th:only-of-type {\n",
       "        vertical-align: middle;\n",
       "    }\n",
       "\n",
       "    .dataframe tbody tr th {\n",
       "        vertical-align: top;\n",
       "    }\n",
       "\n",
       "    .dataframe thead th {\n",
       "        text-align: right;\n",
       "    }\n",
       "</style>\n",
       "<table border=\"1\" class=\"dataframe\">\n",
       "  <thead>\n",
       "    <tr style=\"text-align: right;\">\n",
       "      <th></th>\n",
       "      <th>rating</th>\n",
       "      <th>CantRatings</th>\n",
       "    </tr>\n",
       "  </thead>\n",
       "  <tbody>\n",
       "    <tr>\n",
       "      <th>0</th>\n",
       "      <td>R</td>\n",
       "      <td>1046</td>\n",
       "    </tr>\n",
       "    <tr>\n",
       "      <th>1</th>\n",
       "      <td>PG</td>\n",
       "      <td>565</td>\n",
       "    </tr>\n",
       "    <tr>\n",
       "      <th>2</th>\n",
       "      <td>PG-13</td>\n",
       "      <td>350</td>\n",
       "    </tr>\n",
       "    <tr>\n",
       "      <th>3</th>\n",
       "      <td>G</td>\n",
       "      <td>244</td>\n",
       "    </tr>\n",
       "    <tr>\n",
       "      <th>4</th>\n",
       "      <td>R (Language)</td>\n",
       "      <td>112</td>\n",
       "    </tr>\n",
       "    <tr>\n",
       "      <th>...</th>\n",
       "      <td>...</td>\n",
       "      <td>...</td>\n",
       "    </tr>\n",
       "    <tr>\n",
       "      <th>4255</th>\n",
       "      <td>PG-13 (Language|Bloody Images|Violent Content|...</td>\n",
       "      <td>1</td>\n",
       "    </tr>\n",
       "    <tr>\n",
       "      <th>4256</th>\n",
       "      <td>PG-13 (Violence and Action|Suggestive Material...</td>\n",
       "      <td>1</td>\n",
       "    </tr>\n",
       "    <tr>\n",
       "      <th>4257</th>\n",
       "      <td>R (Some Teen Drinking|Sexual Content|Language ...</td>\n",
       "      <td>1</td>\n",
       "    </tr>\n",
       "    <tr>\n",
       "      <th>4258</th>\n",
       "      <td>R (Language|Brief Nudity|Bloody Violence|Some ...</td>\n",
       "      <td>1</td>\n",
       "    </tr>\n",
       "    <tr>\n",
       "      <th>4259</th>\n",
       "      <td>None</td>\n",
       "      <td>0</td>\n",
       "    </tr>\n",
       "  </tbody>\n",
       "</table>\n",
       "<p>4260 rows × 2 columns</p>\n",
       "</div>"
      ],
      "text/plain": [
       "                                                 rating  CantRatings\n",
       "0                                                     R         1046\n",
       "1                                                    PG          565\n",
       "2                                                 PG-13          350\n",
       "3                                                     G          244\n",
       "4                                          R (Language)          112\n",
       "...                                                 ...          ...\n",
       "4255  PG-13 (Language|Bloody Images|Violent Content|...            1\n",
       "4256  PG-13 (Violence and Action|Suggestive Material...            1\n",
       "4257  R (Some Teen Drinking|Sexual Content|Language ...            1\n",
       "4258  R (Language|Brief Nudity|Bloody Violence|Some ...            1\n",
       "4259                                               None            0\n",
       "\n",
       "[4260 rows x 2 columns]"
      ]
     },
     "execution_count": 26,
     "metadata": {},
     "output_type": "execute_result"
    }
   ],
   "source": [
    "# Distribucion de ratings\n",
    "\n",
    "base = conexion.query(\n",
    "\"\"\"\n",
    "SELECT rating, COUNT(rating) as CantRatings\n",
    "FROM MOVIES \n",
    "GROUP BY rating\n",
    "ORDER BY CantRatings DESC;\n",
    "\"\"\").df()\n",
    "base"
   ]
  },
  {
   "cell_type": "markdown",
   "id": "95f3042d-f5a3-41e2-bc49-36a7c7451ba1",
   "metadata": {},
   "source": [
    "El rating R es el más común. Esto sugiere que una gran parte del contenido está destinado a una audiencia adulta."
   ]
  },
  {
   "cell_type": "markdown",
   "id": "2a91ae6e-3c67-4126-a150-8109a1797677",
   "metadata": {},
   "source": [
    "- El análisis debe incluir graficación\n",
    "Los gráficos se pueden hacer con cualquier librería de graficación (incluido Pandas).\n",
    "Los gráficos pueden ser realizados sobre un subconjunto de los datos (filtrado de TOPs, sampling).\n"
   ]
  },
  {
   "cell_type": "markdown",
   "id": "27dafe2a-ba1a-48dd-ae88-931b71a577b2",
   "metadata": {},
   "source": [
    "### Distribución de critic_score"
   ]
  },
  {
   "cell_type": "code",
   "execution_count": 27,
   "id": "9f16586e-77e3-4a49-80a4-c7d74c486f00",
   "metadata": {},
   "outputs": [],
   "source": [
    "ce = conexion.query(\n",
    "\"\"\"\n",
    "SELECT critic_score\n",
    "FROM MOVIES \n",
    "\"\"\").to_df()"
   ]
  },
  {
   "cell_type": "code",
   "execution_count": 28,
   "id": "c1e53bbe-5f98-412f-a266-557bf484368d",
   "metadata": {},
   "outputs": [
    {
     "data": {
      "image/png": "[encoded data removed]",
      "text/plain": [
       "<Figure size 640x480 with 1 Axes>"
      ]
     },
     "metadata": {},
     "output_type": "display_data"
    }
   ],
   "source": [
    "import seaborn as sns\n",
    "import matplotlib.pyplot as plt\n",
    "\n",
    "# Histograma de 'critic_score'\n",
    "sns.histplot(ce['critic_score'], bins=10, kde=True, color='blue')\n",
    "plt.title('Distribución de Calificaciones de Críticos')\n",
    "plt.xlabel('Critic Score')\n",
    "plt.ylabel('Frecuencia')\n",
    "plt.show()"
   ]
  },
  {
   "cell_type": "markdown",
   "id": "6f243dd7-261f-4005-847a-6f95e8519061",
   "metadata": {},
   "source": [
    "Los críticos suelen calificar mejor que peor a la audiencia. Podemos hacer una distribución de las calificaciones para ver cómo se distribuyen las puntuaciones en tu dataset. La mayoría de las calificaciones se concentran en el rango de 80 a 100. Se observa una0 distribución sesgada hacia la derecha."
   ]
  },
  {
   "cell_type": "markdown",
   "id": "5115672b-b442-456a-8a9d-d17ef9f63e3e",
   "metadata": {},
   "source": [
    "### Evolución de Calificaciones (critic_score vs. audience_score) Medianas por Año"
   ]
  },
  {
   "cell_type": "code",
   "execution_count": 29,
   "id": "3a4437fc-891c-42f9-b582-c48a8c77d09c",
   "metadata": {},
   "outputs": [],
   "source": [
    "yearly_scores = conexion.execute(\"\"\"\n",
    "    SELECT \n",
    "        movieYear,\n",
    "        MEDIAN(critic_score) as median_critic_score,\n",
    "        MEDIAN(audience_score) as median_audience_score,\n",
    "        COUNT(*) as movies_per_year\n",
    "    FROM MOVIES\n",
    "    WHERE movieYear IS NOT NULL \n",
    "        AND critic_score IS NOT NULL \n",
    "        AND audience_score IS NOT NULL\n",
    "        AND critic_score > 0 \n",
    "        AND audience_score > 0\n",
    "    GROUP BY movieYear\n",
    "    ORDER BY movieYear\n",
    "\"\"\").df()"
   ]
  },
  {
   "cell_type": "code",
   "execution_count": 30,
   "id": "e18d8676-9e1a-4ae0-a231-6c08ef407a34",
   "metadata": {},
   "outputs": [
    {
     "data": {
      "application/vnd.plotly.v1+json": {
       "config": {
        "plotlyServerURL": "https://plot.ly"
       },
       "data": [
        {
         "line": {
          "color": "blue"
         },
         "name": "Críticos (Mediana)",
         "type": "scatter",
         "x": {
          "bdata": "bgd7B4EHggeDB4UHhgeHB4gHiQeKB4sHjAeNB44HjweQB5EHkgeTB5QHlQeWB5cHmAeZB5oHmwecB50HngefB6AHoQeiB6MHpAelB6YHpweoB6kHqgerB6wHrQeuB68HsAexB7IHswe0B7UHtge3B7gHuQe6B7sHvAe9B74HvwfAB8EHwgfDB8QHxQfGB8cHyAfJB8oHywfMB80HzgfPB9AH0QfSB9MH1AfVB9YH1wfYB9kH2gfbB9wH3QfeB98H4AfhB+IH4wfkB+UH5gfnB+gH",
          "dtype": "i2"
         },
         "y": {
          "bdata": "AAAAAAAAWUAAAAAAAMBWQAAAAAAAgFhAAAAAAABAWEAAAAAAAEBYQAAAAAAAAFlAAAAAAAAAWUAAAAAAAKBXQAAAAAAAgFhAAAAAAABAV0AAAAAAAIBYQAAAAAAAgFdAAAAAAACAWEAAAAAAAMBXQAAAAAAAgFhAAAAAAABAWEAAAAAAAIBYQAAAAAAAwFZAAAAAAACAWEAAAAAAAEBYQAAAAAAAwFhAAAAAAADAWEAAAAAAAIBXQAAAAAAAoFdAAAAAAABgVkAAAAAAAOBXQAAAAAAAQFhAAAAAAAAAWEAAAAAAAIBYQAAAAAAAAFhAAAAAAACAWEAAAAAAAMBXQAAAAAAAQFhAAAAAAAAAV0AAAAAAAKBWQAAAAAAAAFdAAAAAAABAV0AAAAAAAABYQAAAAAAAAFdAAAAAAACAV0AAAAAAAKBVQAAAAAAAAFdAAAAAAABAV0AAAAAAAKBWQAAAAAAAQFdAAAAAAAAAVUAAAAAAAKBVQAAAAAAAgFZAAAAAAAAAV0AAAAAAAABWQAAAAAAAAFVAAAAAAACAVUAAAAAAACBWQAAAAAAAQFZAAAAAAAAAVkAAAAAAAMBVQAAAAAAAwFNAAAAAAACAVEAAAAAAAOBTQAAAAAAAgFRAAAAAAAAAVEAAAAAAAABUQAAAAAAAQFNAAAAAAAAAVEAAAAAAAIBTQAAAAAAAIFJAAAAAAAAAVEAAAAAAAOBTQAAAAAAAgFNAAAAAAAAAVEAAAAAAAABSQAAAAAAAwFJAAAAAAADAUkAAAAAAAABTQAAAAAAAgE9AAAAAAAAATkAAAAAAAABRQAAAAAAAgFFAAAAAAABATUAAAAAAAMBOQAAAAAAAgEpAAAAAAAAAS0AAAAAAAIBNQAAAAAAAAE5AAAAAAAAAS0AAAAAAAIBLQAAAAAAAgElAAAAAAACAS0AAAAAAAABLQAAAAAAAgEtAAAAAAACATEAAAAAAAMBOQAAAAAAAAE5AAAAAAAAATUAAAAAAAIBPQAAAAAAAgFBAAAAAAABAUUAAAAAAAIBSQAAAAAAAgFJAAAAAAADAUUAAAAAAAEBTQAAAAAAAAFNAAAAAAADAUkAAAAAAAIBSQAAAAAAAYFNA",
          "dtype": "f8"
         }
        },
        {
         "line": {
          "color": "red"
         },
         "name": "Audiencia (Mediana)",
         "type": "scatter",
         "x": {
          "bdata": "bgd7B4EHggeDB4UHhgeHB4gHiQeKB4sHjAeNB44HjweQB5EHkgeTB5QHlQeWB5cHmAeZB5oHmwecB50HngefB6AHoQeiB6MHpAelB6YHpweoB6kHqgerB6wHrQeuB68HsAexB7IHswe0B7UHtge3B7gHuQe6B7sHvAe9B74HvwfAB8EHwgfDB8QHxQfGB8cHyAfJB8oHywfMB80HzgfPB9AH0QfSB9MH1AfVB9YH1wfYB9kH2gfbB9wH3QfeB98H4AfhB+IH4wfkB+UH5gfnB+gH",
          "dtype": "i2"
         },
         "y": {
          "bdata": "AAAAAACAVkAAAAAAAIBHQAAAAAAAAFdAAAAAAADAVUAAAAAAAEBXQAAAAAAAQFdAAAAAAACAVUAAAAAAAABXQAAAAAAAQFdAAAAAAACAVUAAAAAAAEBWQAAAAAAAwFVAAAAAAADgU0AAAAAAAIBVQAAAAAAAYFdAAAAAAACgVUAAAAAAAMBXQAAAAAAAwFVAAAAAAABAVkAAAAAAAEBWQAAAAAAAAFZAAAAAAADAVUAAAAAAAEBUQAAAAAAA4FVAAAAAAAAgVkAAAAAAACBWQAAAAAAAgFZAAAAAAADAVUAAAAAAAEBWQAAAAAAAwFNAAAAAAABAVkAAAAAAAABVQAAAAAAAgFZAAAAAAABAVEAAAAAAAOBTQAAAAAAAYFRAAAAAAABAVUAAAAAAAMBVQAAAAAAAgFJAAAAAAADAVkAAAAAAACBUQAAAAAAAgFVAAAAAAADAVUAAAAAAAMBUQAAAAAAAgFVAAAAAAAAAVEAAAAAAAMBVQAAAAAAA4FVAAAAAAABAVUAAAAAAAABVQAAAAAAAQFRAAAAAAACAUkAAAAAAAMBUQAAAAAAAQFVAAAAAAADgU0AAAAAAAABVQAAAAAAAQFNAAAAAAABAU0AAAAAAACBUQAAAAAAAwFJAAAAAAACAUkAAAAAAAABSQAAAAAAA4FJAAAAAAAAgU0AAAAAAAABSQAAAAAAAgFJAAAAAAACgUkAAAAAAAKBTQAAAAAAAYFNAAAAAAAAgU0AAAAAAAIBRQAAAAAAAAFNAAAAAAABAUkAAAAAAAMBSQAAAAAAAAFJAAAAAAAAAU0AAAAAAAKBRQAAAAAAAoFFAAAAAAADgUUAAAAAAAKBRQAAAAAAAgFBAAAAAAACgUEAAAAAAAMBQQAAAAAAAQFBAAAAAAACAUEAAAAAAAIBQQAAAAAAAAFFAAAAAAACAUEAAAAAAAABNQAAAAAAAgExAAAAAAAAATUAAAAAAAABOQAAAAAAAAE5AAAAAAACATEAAAAAAAABNQAAAAAAAAE9AAAAAAACATkAAAAAAAIBOQAAAAAAAAFBAAAAAAADAUUAAAAAAAEBQQAAAAAAAwFFAAAAAAADAUUAAAAAAAABSQAAAAAAAwFFA",
          "dtype": "f8"
         }
        },
        {
         "marker": {
          "color": "gray"
         },
         "name": "Películas por Año",
         "opacity": 0.3,
         "type": "bar",
         "x": {
          "bdata": "bgd7B4EHggeDB4UHhgeHB4gHiQeKB4sHjAeNB44HjweQB5EHkgeTB5QHlQeWB5cHmAeZB5oHmwecB50HngefB6AHoQeiB6MHpAelB6YHpweoB6kHqgerB6wHrQeuB68HsAexB7IHswe0B7UHtge3B7gHuQe6B7sHvAe9B74HvwfAB8EHwgfDB8QHxQfGB8cHyAfJB8oHywfMB80HzgfPB9AH0QfSB9MH1AfVB9YH1wfYB9kH2gfbB9wH3QfeB98H4AfhB+IH4wfkB+UH5gfnB+gH",
          "dtype": "i2"
         },
         "y": {
          "bdata": "AQABAAIAAQABAAEAAQACAAEAAQABAAMABgAFAAIABAABAAMABQAIAAkABQAEAAgACAAIAAwACAAIAAUACwAHAAYAEAAQAA4AFQAUAA0ADQAQAA0AFQASABkACAAOABgAFQANABkAGwAYABwAGgAbAB0AGwAaACMAJAApAC4AJgA3ADIAOgA2ADgAPgA7ADUARwBPAE0AUwBcAFAAfABuAHoAfACRAJ8AnwCnAK8AwwDxAMoA2QD4APEAAwFJAUwBFwLlAc0BuQGtAc4B5QEyAkgB",
          "dtype": "i2"
         },
         "yaxis": "y2"
        }
       ],
       "layout": {
        "hovermode": "x unified",
        "template": {
         "data": {
          "bar": [
           {
            "error_x": {
             "color": "#2a3f5f"
            },
            "error_y": {
             "color": "#2a3f5f"
            },
            "marker": {
             "line": {
              "color": "white",
              "width": 0.5
             },
             "pattern": {
              "fillmode": "overlay",
              "size": 10,
              "solidity": 0.2
             }
            },
            "type": "bar"
           }
          ],
          "barpolar": [
           {
            "marker": {
             "line": {
              "color": "white",
              "width": 0.5
             },
             "pattern": {
              "fillmode": "overlay",
              "size": 10,
              "solidity": 0.2
             }
            },
            "type": "barpolar"
           }
          ],
          "carpet": [
           {
            "aaxis": {
             "endlinecolor": "#2a3f5f",
             "gridcolor": "#C8D4E3",
             "linecolor": "#C8D4E3",
             "minorgridcolor": "#C8D4E3",
             "startlinecolor": "#2a3f5f"
            },
            "baxis": {
             "endlinecolor": "#2a3f5f",
             "gridcolor": "#C8D4E3",
             "linecolor": "#C8D4E3",
             "minorgridcolor": "#C8D4E3",
             "startlinecolor": "#2a3f5f"
            },
            "type": "carpet"
           }
          ],
          "choropleth": [
           {
            "colorbar": {
             "outlinewidth": 0,
             "ticks": ""
            },
            "type": "choropleth"
           }
          ],
          "contour": [
           {
            "colorbar": {
             "outlinewidth": 0,
             "ticks": ""
            },
            "colorscale": [
             [
              0,
              "#0d0887"
             ],
             [
              0.1111111111111111,
              "#46039f"
             ],
             [
              0.2222222222222222,
              "#7201a8"
             ],
             [
              0.3333333333333333,
              "#9c179e"
             ],
             [
              0.4444444444444444,
              "#bd3786"
             ],
             [
              0.5555555555555556,
              "#d8576b"
             ],
             [
              0.6666666666666666,
              "#ed7953"
             ],
             [
              0.7777777777777778,
              "#fb9f3a"
             ],
             [
              0.8888888888888888,
              "#fdca26"
             ],
             [
              1,
              "#f0f921"
             ]
            ],
            "type": "contour"
           }
          ],
          "contourcarpet": [
           {
            "colorbar": {
             "outlinewidth": 0,
             "ticks": ""
            },
            "type": "contourcarpet"
           }
          ],
          "heatmap": [
           {
            "colorbar": {
             "outlinewidth": 0,
             "ticks": ""
            },
            "colorscale": [
             [
              0,
              "#0d0887"
             ],
             [
              0.1111111111111111,
              "#46039f"
             ],
             [
              0.2222222222222222,
              "#7201a8"
             ],
             [
              0.3333333333333333,
              "#9c179e"
             ],
             [
              0.4444444444444444,
              "#bd3786"
             ],
             [
              0.5555555555555556,
              "#d8576b"
             ],
             [
              0.6666666666666666,
              "#ed7953"
             ],
             [
              0.7777777777777778,
              "#fb9f3a"
             ],
             [
              0.8888888888888888,
              "#fdca26"
             ],
             [
              1,
              "#f0f921"
             ]
            ],
            "type": "heatmap"
           }
          ],
          "histogram": [
           {
            "marker": {
             "pattern": {
              "fillmode": "overlay",
              "size": 10,
              "solidity": 0.2
             }
            },
            "type": "histogram"
           }
          ],
          "histogram2d": [
           {
            "colorbar": {
             "outlinewidth": 0,
             "ticks": ""
            },
            "colorscale": [
             [
              0,
              "#0d0887"
             ],
             [
              0.1111111111111111,
              "#46039f"
             ],
             [
              0.2222222222222222,
              "#7201a8"
             ],
             [
              0.3333333333333333,
              "#9c179e"
             ],
             [
              0.4444444444444444,
              "#bd3786"
             ],
             [
              0.5555555555555556,
              "#d8576b"
             ],
             [
              0.6666666666666666,
              "#ed7953"
             ],
             [
              0.7777777777777778,
              "#fb9f3a"
             ],
             [
              0.8888888888888888,
              "#fdca26"
             ],
             [
              1,
              "#f0f921"
             ]
            ],
            "type": "histogram2d"
           }
          ],
          "histogram2dcontour": [
           {
            "colorbar": {
             "outlinewidth": 0,
             "ticks": ""
            },
            "colorscale": [
             [
              0,
              "#0d0887"
             ],
             [
              0.1111111111111111,
              "#46039f"
             ],
             [
              0.2222222222222222,
              "#7201a8"
             ],
             [
              0.3333333333333333,
              "#9c179e"
             ],
             [
              0.4444444444444444,
              "#bd3786"
             ],
             [
              0.5555555555555556,
              "#d8576b"
             ],
             [
              0.6666666666666666,
              "#ed7953"
             ],
             [
              0.7777777777777778,
              "#fb9f3a"
             ],
             [
              0.8888888888888888,
              "#fdca26"
             ],
             [
              1,
              "#f0f921"
             ]
            ],
            "type": "histogram2dcontour"
           }
          ],
          "mesh3d": [
           {
            "colorbar": {
             "outlinewidth": 0,
             "ticks": ""
            },
            "type": "mesh3d"
           }
          ],
          "parcoords": [
           {
            "line": {
             "colorbar": {
              "outlinewidth": 0,
              "ticks": ""
             }
            },
            "type": "parcoords"
           }
          ],
          "pie": [
           {
            "automargin": true,
            "type": "pie"
           }
          ],
          "scatter": [
           {
            "fillpattern": {
             "fillmode": "overlay",
             "size": 10,
             "solidity": 0.2
            },
            "type": "scatter"
           }
          ],
          "scatter3d": [
           {
            "line": {
             "colorbar": {
              "outlinewidth": 0,
              "ticks": ""
             }
            },
            "marker": {
             "colorbar": {
              "outlinewidth": 0,
              "ticks": ""
             }
            },
            "type": "scatter3d"
           }
          ],
          "scattercarpet": [
           {
            "marker": {
             "colorbar": {
              "outlinewidth": 0,
              "ticks": ""
             }
            },
            "type": "scattercarpet"
           }
          ],
          "scattergeo": [
           {
            "marker": {
             "colorbar": {
              "outlinewidth": 0,
              "ticks": ""
             }
            },
            "type": "scattergeo"
           }
          ],
          "scattergl": [
           {
            "marker": {
             "colorbar": {
              "outlinewidth": 0,
              "ticks": ""
             }
            },
            "type": "scattergl"
           }
          ],
          "scattermap": [
           {
            "marker": {
             "colorbar": {
              "outlinewidth": 0,
              "ticks": ""
             }
            },
            "type": "scattermap"
           }
          ],
          "scattermapbox": [
           {
            "marker": {
             "colorbar": {
              "outlinewidth": 0,
              "ticks": ""
             }
            },
            "type": "scattermapbox"
           }
          ],
          "scatterpolar": [
           {
            "marker": {
             "colorbar": {
              "outlinewidth": 0,
              "ticks": ""
             }
            },
            "type": "scatterpolar"
           }
          ],
          "scatterpolargl": [
           {
            "marker": {
             "colorbar": {
              "outlinewidth": 0,
              "ticks": ""
             }
            },
            "type": "scatterpolargl"
           }
          ],
          "scatterternary": [
           {
            "marker": {
             "colorbar": {
              "outlinewidth": 0,
              "ticks": ""
             }
            },
            "type": "scatterternary"
           }
          ],
          "surface": [
           {
            "colorbar": {
             "outlinewidth": 0,
             "ticks": ""
            },
            "colorscale": [
             [
              0,
              "#0d0887"
             ],
             [
              0.1111111111111111,
              "#46039f"
             ],
             [
              0.2222222222222222,
              "#7201a8"
             ],
             [
              0.3333333333333333,
              "#9c179e"
             ],
             [
              0.4444444444444444,
              "#bd3786"
             ],
             [
              0.5555555555555556,
              "#d8576b"
             ],
             [
              0.6666666666666666,
              "#ed7953"
             ],
             [
              0.7777777777777778,
              "#fb9f3a"
             ],
             [
              0.8888888888888888,
              "#fdca26"
             ],
             [
              1,
              "#f0f921"
             ]
            ],
            "type": "surface"
           }
          ],
          "table": [
           {
            "cells": {
             "fill": {
              "color": "#EBF0F8"
             },
             "line": {
              "color": "white"
             }
            },
            "header": {
             "fill": {
              "color": "#C8D4E3"
             },
             "line": {
              "color": "white"
             }
            },
            "type": "table"
           }
          ]
         },
         "layout": {
          "annotationdefaults": {
           "arrowcolor": "#2a3f5f",
           "arrowhead": 0,
           "arrowwidth": 1
          },
          "autotypenumbers": "strict",
          "coloraxis": {
           "colorbar": {
            "outlinewidth": 0,
            "ticks": ""
           }
          },
          "colorscale": {
           "diverging": [
            [
             0,
             "#8e0152"
            ],
            [
             0.1,
             "#c51b7d"
            ],
            [
             0.2,
             "#de77ae"
            ],
            [
             0.3,
             "#f1b6da"
            ],
            [
             0.4,
             "#fde0ef"
            ],
            [
             0.5,
             "#f7f7f7"
            ],
            [
             0.6,
             "#e6f5d0"
            ],
            [
             0.7,
             "#b8e186"
            ],
            [
             0.8,
             "#7fbc41"
            ],
            [
             0.9,
             "#4d9221"
            ],
            [
             1,
             "#276419"
            ]
           ],
           "sequential": [
            [
             0,
             "#0d0887"
            ],
            [
             0.1111111111111111,
             "#46039f"
            ],
            [
             0.2222222222222222,
             "#7201a8"
            ],
            [
             0.3333333333333333,
             "#9c179e"
            ],
            [
             0.4444444444444444,
             "#bd3786"
            ],
            [
             0.5555555555555556,
             "#d8576b"
            ],
            [
             0.6666666666666666,
             "#ed7953"
            ],
            [
             0.7777777777777778,
             "#fb9f3a"
            ],
            [
             0.8888888888888888,
             "#fdca26"
            ],
            [
             1,
             "#f0f921"
            ]
           ],
           "sequentialminus": [
            [
             0,
             "#0d0887"
            ],
            [
             0.1111111111111111,
             "#46039f"
            ],
            [
             0.2222222222222222,
             "#7201a8"
            ],
            [
             0.3333333333333333,
             "#9c179e"
            ],
            [
             0.4444444444444444,
             "#bd3786"
            ],
            [
             0.5555555555555556,
             "#d8576b"
            ],
            [
             0.6666666666666666,
             "#ed7953"
            ],
            [
             0.7777777777777778,
             "#fb9f3a"
            ],
            [
             0.8888888888888888,
             "#fdca26"
            ],
            [
             1,
             "#f0f921"
            ]
           ]
          },
          "colorway": [
           "#636efa",
           "#EF553B",
           "#00cc96",
           "#ab63fa",
           "#FFA15A",
           "#19d3f3",
           "#FF6692",
           "#B6E880",
           "#FF97FF",
           "#FECB52"
          ],
          "font": {
           "color": "#2a3f5f"
          },
          "geo": {
           "bgcolor": "white",
           "lakecolor": "white",
           "landcolor": "white",
           "showlakes": true,
           "showland": true,
           "subunitcolor": "#C8D4E3"
          },
          "hoverlabel": {
           "align": "left"
          },
          "hovermode": "closest",
          "mapbox": {
           "style": "light"
          },
          "paper_bgcolor": "white",
          "plot_bgcolor": "white",
          "polar": {
           "angularaxis": {
            "gridcolor": "#EBF0F8",
            "linecolor": "#EBF0F8",
            "ticks": ""
           },
           "bgcolor": "white",
           "radialaxis": {
            "gridcolor": "#EBF0F8",
            "linecolor": "#EBF0F8",
            "ticks": ""
           }
          },
          "scene": {
           "xaxis": {
            "backgroundcolor": "white",
            "gridcolor": "#DFE8F3",
            "gridwidth": 2,
            "linecolor": "#EBF0F8",
            "showbackground": true,
            "ticks": "",
            "zerolinecolor": "#EBF0F8"
           },
           "yaxis": {
            "backgroundcolor": "white",
            "gridcolor": "#DFE8F3",
            "gridwidth": 2,
            "linecolor": "#EBF0F8",
            "showbackground": true,
            "ticks": "",
            "zerolinecolor": "#EBF0F8"
           },
           "zaxis": {
            "backgroundcolor": "white",
            "gridcolor": "#DFE8F3",
            "gridwidth": 2,
            "linecolor": "#EBF0F8",
            "showbackground": true,
            "ticks": "",
            "zerolinecolor": "#EBF0F8"
           }
          },
          "shapedefaults": {
           "line": {
            "color": "#2a3f5f"
           }
          },
          "ternary": {
           "aaxis": {
            "gridcolor": "#DFE8F3",
            "linecolor": "#A2B1C6",
            "ticks": ""
           },
           "baxis": {
            "gridcolor": "#DFE8F3",
            "linecolor": "#A2B1C6",
            "ticks": ""
           },
           "bgcolor": "white",
           "caxis": {
            "gridcolor": "#DFE8F3",
            "linecolor": "#A2B1C6",
            "ticks": ""
           }
          },
          "title": {
           "x": 0.05
          },
          "xaxis": {
           "automargin": true,
           "gridcolor": "#EBF0F8",
           "linecolor": "#EBF0F8",
           "ticks": "",
           "title": {
            "standoff": 15
           },
           "zerolinecolor": "#EBF0F8",
           "zerolinewidth": 2
          },
          "yaxis": {
           "automargin": true,
           "gridcolor": "#EBF0F8",
           "linecolor": "#EBF0F8",
           "ticks": "",
           "title": {
            "standoff": 15
           },
           "zerolinecolor": "#EBF0F8",
           "zerolinewidth": 2
          }
         }
        },
        "title": {
         "text": "Evolución de Calificaciones Medianas por Año"
        },
        "xaxis": {
         "title": {
          "text": "Año"
         }
        },
        "yaxis": {
         "title": {
          "text": "Puntuación (Mediana)"
         }
        },
        "yaxis2": {
         "overlaying": "y",
         "side": "right",
         "title": {
          "text": "Número de Películas"
         }
        }
       }
      }
     },
     "metadata": {},
     "output_type": "display_data"
    }
   ],
   "source": [
    "import plotly.graph_objects as go\n",
    "from IPython.display import display \n",
    "\n",
    "fig = go.Figure()\n",
    "fig.add_trace(go.Scatter(\n",
    "    x=yearly_scores['movieYear'],\n",
    "    y=yearly_scores['median_critic_score'],\n",
    "    name='Críticos (Mediana)',\n",
    "    line=dict(color='blue')\n",
    "))\n",
    "fig.add_trace(go.Scatter(\n",
    "    x=yearly_scores['movieYear'],\n",
    "    y=yearly_scores['median_audience_score'],\n",
    "    name='Audiencia (Mediana)',\n",
    "    line=dict(color='red')\n",
    "))\n",
    "\n",
    "# Agregar películas por año como gráfico de barras en el eje y secundario\n",
    "fig.add_trace(go.Bar(\n",
    "    x=yearly_scores['movieYear'],\n",
    "    y=yearly_scores['movies_per_year'],\n",
    "    name='Películas por Año',\n",
    "    yaxis='y2',\n",
    "    opacity=0.3,\n",
    "    marker_color='gray'\n",
    "))\n",
    "\n",
    "# Update layout with secondary y-axis\n",
    "fig.update_layout(\n",
    "    title='Evolución de Calificaciones Medianas por Año',\n",
    "    xaxis_title='Año',\n",
    "    yaxis_title='Puntuación (Mediana)',\n",
    "    yaxis2=dict(\n",
    "        title='Número de Películas',\n",
    "        overlaying='y',\n",
    "        side='right'\n",
    "    ),\n",
    "    template='plotly_white',\n",
    "    hovermode='x unified'\n",
    ")\n",
    "\n",
    "fig.show()"
   ]
  },
  {
   "cell_type": "markdown",
   "id": "09e34d8a-1d51-43fb-b212-dc220d9e6d82",
   "metadata": {},
   "source": [
    "Este análisis revela patrones fascinantes en las calificaciones de películas a lo largo del tiempo:\n",
    "\n",
    "1. Dinámica Histórica de Calificaciones (Punto de Inflexión 1993):\n",
    "- Antes de 1993: Las calificaciones del público eran consistentemente más bajas que las de los críticos\n",
    "- 1993-2013: Los críticos se volvieron más exigentes, otorgando puntuaciones más bajas que el público\n",
    "- Después de 2013: Retorno al patrón anterior a 1993, con calificaciones del público siendo más favorables\n",
    "\n",
    "2. Observaciones Clave:\n",
    "- El período de 20 años (1993-2013) representa una era única donde los críticos fueron notablemente más críticos\n",
    "- Este cambio podría reflejar modificaciones en:\n",
    "  * Estándares de evaluación crítica\n",
    "  * Patrones de consumo del público\n",
    "  * La evolución del marketing y distribución cinematográfica\n",
    "\n",
    "3. Análisis de Volumen de Estrenos:\n",
    "- Años pico para estrenos de películas:\n",
    "  * 2023: Mayor número de estrenos\n",
    "  * 2016: Segundo lugar en cantidad\n",
    "- El aumento en 2023 puede atribuirse a:\n",
    "  * Acumulación de estrenos post-pandemia\n",
    "  * Producciones retrasadas finalmente completadas\n",
    "  * Estudios liberando sus líneas de contenido"
   ]
  },
  {
   "cell_type": "markdown",
   "id": "d5de0914-c728-4b10-b695-df3d38b03d15",
   "metadata": {},
   "source": [
    "### Wordcloud de quote"
   ]
  },
  {
   "cell_type": "code",
   "execution_count": 31,
   "id": "4642ed40-be57-415f-85b6-0b11cb3e9e49",
   "metadata": {},
   "outputs": [],
   "source": [
    "df = conexion.query(\n",
    "\"\"\"\n",
    "SELECT quote\n",
    "FROM CRITIC_REVIEWS;\n",
    "\"\"\").to_df()"
   ]
  },
  {
   "cell_type": "code",
   "execution_count": 32,
   "id": "f292476a-0e5b-4dcc-abc9-542e69d6f5ea",
   "metadata": {},
   "outputs": [
    {
     "name": "stdout",
     "output_type": "stream",
     "text": [
      "Requirement already satisfied: wordcloud in c:\\projects\\espol\\big-data-project\\big_data_venv\\lib\\site-packages (1.9.4)\n",
      "Requirement already satisfied: numpy>=1.6.1 in c:\\projects\\espol\\big-data-project\\big_data_venv\\lib\\site-packages (from wordcloud) (2.2.4)\n",
      "Requirement already satisfied: pillow in c:\\projects\\espol\\big-data-project\\big_data_venv\\lib\\site-packages (from wordcloud) (11.2.1)\n",
      "Requirement already satisfied: matplotlib in c:\\projects\\espol\\big-data-project\\big_data_venv\\lib\\site-packages (from wordcloud) (3.10.1)\n",
      "Requirement already satisfied: contourpy>=1.0.1 in c:\\projects\\espol\\big-data-project\\big_data_venv\\lib\\site-packages (from matplotlib->wordcloud) (1.3.2)\n",
      "Requirement already satisfied: cycler>=0.10 in c:\\projects\\espol\\big-data-project\\big_data_venv\\lib\\site-packages (from matplotlib->wordcloud) (0.12.1)\n",
      "Requirement already satisfied: fonttools>=4.22.0 in c:\\projects\\espol\\big-data-project\\big_data_venv\\lib\\site-packages (from matplotlib->wordcloud) (4.57.0)\n",
      "Requirement already satisfied: kiwisolver>=1.3.1 in c:\\projects\\espol\\big-data-project\\big_data_venv\\lib\\site-packages (from matplotlib->wordcloud) (1.4.8)\n",
      "Requirement already satisfied: packaging>=20.0 in c:\\projects\\espol\\big-data-project\\big_data_venv\\lib\\site-packages (from matplotlib->wordcloud) (24.2)\n",
      "Requirement already satisfied: pyparsing>=2.3.1 in c:\\projects\\espol\\big-data-project\\big_data_venv\\lib\\site-packages (from matplotlib->wordcloud) (3.2.3)\n",
      "Requirement already satisfied: python-dateutil>=2.7 in c:\\projects\\espol\\big-data-project\\big_data_venv\\lib\\site-packages (from matplotlib->wordcloud) (2.9.0.post0)\n",
      "Requirement already satisfied: six>=1.5 in c:\\projects\\espol\\big-data-project\\big_data_venv\\lib\\site-packages (from python-dateutil>=2.7->matplotlib->wordcloud) (1.17.0)\n",
      "Note: you may need to restart the kernel to use updated packages.\n"
     ]
    },
    {
     "name": "stderr",
     "output_type": "stream",
     "text": [
      "\n",
      "[notice] A new release of pip is available: 23.2.1 -> 25.0.1\n",
      "[notice] To update, run: python.exe -m pip install --upgrade pip\n"
     ]
    }
   ],
   "source": [
    "%pip install wordcloud"
   ]
  },
  {
   "cell_type": "code",
   "execution_count": 33,
   "id": "92a486d5-e78a-4d90-923f-b756740b446c",
   "metadata": {},
   "outputs": [
    {
     "ename": "ModuleNotFoundError",
     "evalue": "No module named 'nltk'",
     "output_type": "error",
     "traceback": [
      "\u001b[31m---------------------------------------------------------------------------\u001b[39m",
      "\u001b[31mModuleNotFoundError\u001b[39m                       Traceback (most recent call last)",
      "\u001b[36mCell\u001b[39m\u001b[36m \u001b[39m\u001b[32mIn[33]\u001b[39m\u001b[32m, line 1\u001b[39m\n\u001b[32m----> \u001b[39m\u001b[32m1\u001b[39m \u001b[38;5;28;01mimport\u001b[39;00m\u001b[38;5;250m \u001b[39m\u001b[34;01mnltk\u001b[39;00m\n\u001b[32m      2\u001b[39m \u001b[38;5;28;01mimport\u001b[39;00m\u001b[38;5;250m \u001b[39m\u001b[34;01mstring\u001b[39;00m\n\u001b[32m      3\u001b[39m \u001b[38;5;28;01mfrom\u001b[39;00m\u001b[38;5;250m \u001b[39m\u001b[34;01mwordcloud\u001b[39;00m\u001b[38;5;250m \u001b[39m\u001b[38;5;28;01mimport\u001b[39;00m WordCloud\n",
      "\u001b[31mModuleNotFoundError\u001b[39m: No module named 'nltk'"
     ]
    }
   ],
   "source": [
    "\n",
    "import nltk\n",
    "import string\n",
    "from wordcloud import WordCloud\n",
    "import matplotlib.pyplot as plt\n",
    "from nltk.corpus import stopwords\n",
    "\n",
    "\n",
    "nltk.download('stopwords')\n",
    "\n",
    "# Función de limpieza automática de texto\n",
    "def clean_text_auto(text):\n",
    "    text = ''.join([char for char in text if char not in string.punctuation])\n",
    "    text = text.lower()\n",
    "    stop_words = set(stopwords.words('english'))  # Puedes cambiar a otro idioma si es necesario\n",
    "    text = ' '.join([word for word in text.split() if word not in stop_words])\n",
    "    \n",
    "    return text\n",
    "\n",
    "# Aplicamos la limpieza automática a la columna 'quote'\n",
    "df['cleaned_quote'] = df['quote'].apply(lambda x: clean_text_auto(str(x)))\n",
    "\n",
    "# Unimos todos los textos limpios en un solo string\n",
    "text = ' '.join(df['cleaned_quote'].dropna())\n",
    "\n",
    "# Creamos la wordcloud\n",
    "wordcloud = WordCloud(width=800, height=400, background_color='white').generate(text)\n",
    "\n",
    "plt.figure(figsize=(10, 5))\n",
    "plt.imshow(wordcloud, interpolation='bilinear')\n",
    "plt.axis('off')\n",
    "plt.show()\n"
   ]
  },
  {
   "cell_type": "markdown",
   "id": "3d0f8c8c-56de-4754-8b17-6115019f757e",
   "metadata": {},
   "source": [
    "### Cantidad de reseñas de audiencia con spoilers o malas palabras"
   ]
  },
  {
   "cell_type": "code",
   "execution_count": 224,
   "id": "d0702dec-48c7-4015-a8f5-caa999fd2cdd",
   "metadata": {},
   "outputs": [],
   "source": [
    "base = conexion.query(\n",
    "\"\"\" SELECT \n",
    "    COUNT(*) FILTER (WHERE hasSpoilers = TRUE) AS spoilers_count,\n",
    "    COUNT(*) FILTER (WHERE hasProfanity = TRUE) AS profanity_count\n",
    "FROM USER_REVIEWS ;\n",
    "\"\"\").to_df()\n"
   ]
  },
  {
   "cell_type": "code",
   "execution_count": 225,
   "id": "81c4039f-daa1-4390-bf66-2f99b990e77a",
   "metadata": {},
   "outputs": [
    {
     "data": {
      "image/png": "[encoded data removed]",
      "text/plain": [
       "<Figure size 600x400 with 1 Axes>"
      ]
     },
     "metadata": {},
     "output_type": "display_data"
    }
   ],
   "source": [
    "data = pd.DataFrame({\n",
    "    'Tipo': ['Spoilers', 'Malas Palabras'],\n",
    "    'Cantidad': [base['spoilers_count'][0], base['profanity_count'][0]]\n",
    "})\n",
    "\n",
    "# Gráfico de barras\n",
    "plt.figure(figsize=(6,4))\n",
    "plt.bar(data['Tipo'], data['Cantidad'], color=['skyblue', 'salmon'])\n",
    "plt.title('Cantidad de Reseñas de Usuarios con Spoilers y Malas Palabras')\n",
    "plt.ylabel('Cantidad')\n",
    "plt.xlabel('Tipo de Contenido')\n",
    "plt.show()"
   ]
  },
  {
   "cell_type": "markdown",
   "id": "de5346b1-9545-4600-b861-0ef47c6be41f",
   "metadata": {},
   "source": [
    "Se observan reseñas con mayor cantidad de malas palabras que con spoilers."
   ]
  },
  {
   "cell_type": "markdown",
   "id": "5c4bf5aa-ccb9-49ce-9174-a36720c5f2df",
   "metadata": {},
   "source": [
    "### Top 10 de reseñas por crítico (criticName)"
   ]
  },
  {
   "cell_type": "code",
   "execution_count": 229,
   "id": "a3cb8c63-3ed2-4773-a710-8046ce3f5671",
   "metadata": {},
   "outputs": [],
   "source": [
    "df = conexion.query(\n",
    "\"\"\"\n",
    "SELECT criticName, count(*) AS criticNameCounts\n",
    "FROM CRITIC_REVIEWS\n",
    "GROUP BY criticName\n",
    "ORDER BY criticNameCounts DESC\n",
    "LIMIT 10\n",
    ";\n",
    "\"\"\").to_df()"
   ]
  },
  {
   "cell_type": "code",
   "execution_count": 230,
   "id": "cc67839e-5590-4405-afab-e371faa20c2a",
   "metadata": {},
   "outputs": [
    {
     "name": "stderr",
     "output_type": "stream",
     "text": [
      "C:\\Users\\Cindy\\AppData\\Local\\Temp\\ipykernel_5808\\177322773.py:1: FutureWarning:\n",
      "\n",
      "\n",
      "\n",
      "Passing `palette` without assigning `hue` is deprecated and will be removed in v0.14.0. Assign the `y` variable to `hue` and set `legend=False` for the same effect.\n",
      "\n",
      "\n"
     ]
    },
    {
     "data": {
      "image/png": "[encoded data removed]",
      "text/plain": [
       "<Figure size 640x480 with 1 Axes>"
      ]
     },
     "metadata": {},
     "output_type": "display_data"
    }
   ],
   "source": [
    "sns.barplot(x=df['criticNameCounts'], y=df['criticName'], palette='viridis')\n",
    "plt.title('Top 10 Críticos con más Reseñas')\n",
    "plt.xlabel('Cantidad de Reseñas')\n",
    "plt.ylabel('Crítico')\n",
    "plt.show()\n"
   ]
  },
  {
   "cell_type": "markdown",
   "id": "2cd55094-e4a2-4873-bc0b-fe168c26dce5",
   "metadata": {},
   "source": [
    "Roger Moore y Brian Orndorf lideran el ranking con aproximadamente 4,500 reseñas cada uno. Neil Minow, en la décima posición, mantiene un número significativo de reseñas (~3,800)"
   ]
  },
  {
   "cell_type": "markdown",
   "id": "bcca2b6e-c620-49a3-a724-e9307310a884",
   "metadata": {},
   "source": [
    "### Top 10 de reseñas por medio (publicationName)"
   ]
  },
  {
   "cell_type": "code",
   "execution_count": 233,
   "id": "b261b875-d124-4438-8e11-8a2fcff9555c",
   "metadata": {},
   "outputs": [],
   "source": [
    "df = conexion.query(\n",
    "\"\"\"\n",
    "SELECT publicationName, count(*) AS publicationNameCounts\n",
    "FROM CRITIC_REVIEWS\n",
    "GROUP BY publicationName\n",
    "ORDER BY publicationNameCounts DESC\n",
    "LIMIT 10\n",
    ";\n",
    "\"\"\").to_df()"
   ]
  },
  {
   "cell_type": "code",
   "execution_count": 234,
   "id": "a26500fe-c403-4935-a06d-718fa036b17e",
   "metadata": {},
   "outputs": [
    {
     "name": "stderr",
     "output_type": "stream",
     "text": [
      "C:\\Users\\Cindy\\AppData\\Local\\Temp\\ipykernel_5808\\2438680699.py:1: FutureWarning:\n",
      "\n",
      "\n",
      "\n",
      "Passing `palette` without assigning `hue` is deprecated and will be removed in v0.14.0. Assign the `y` variable to `hue` and set `legend=False` for the same effect.\n",
      "\n",
      "\n"
     ]
    },
    {
     "data": {
      "image/png": "[encoded data removed]",
      "text/plain": [
       "<Figure size 640x480 with 1 Axes>"
      ]
     },
     "metadata": {},
     "output_type": "display_data"
    }
   ],
   "source": [
    "sns.barplot(x=df['publicationNameCounts'], y=df['publicationName'], palette='viridis')\n",
    "plt.title('Top 10 Medios que más Publican Reseñas')\n",
    "plt.xlabel('Cantidad de Reseñas')\n",
    "plt.ylabel('Crítico')\n",
    "plt.show()\n"
   ]
  },
  {
   "cell_type": "markdown",
   "id": "fec78338-33a4-4ee9-ab99-ba9f5b2f9125",
   "metadata": {},
   "source": [
    "Los medios que más publicaciones realizan de reviewa de críticos son: New York Times y Variety."
   ]
  },
  {
   "cell_type": "markdown",
   "id": "027e007d-93e5-42e4-9399-8274d377223e",
   "metadata": {},
   "source": [
    "### Gráfico de Evolución de Calificaciones (critic_score vs. audience_score) Medianas por Año"
   ]
  },
  {
   "cell_type": "code",
   "execution_count": 237,
   "id": "5b70fb58-8703-43b1-8e68-716204bd908a",
   "metadata": {},
   "outputs": [
    {
     "name": "stdout",
     "output_type": "stream",
     "text": [
      "Data Quality Analysis:\n"
     ]
    },
    {
     "data": {
      "text/html": [
       "<div>\n",
       "<style scoped>\n",
       "    .dataframe tbody tr th:only-of-type {\n",
       "        vertical-align: middle;\n",
       "    }\n",
       "\n",
       "    .dataframe tbody tr th {\n",
       "        vertical-align: top;\n",
       "    }\n",
       "\n",
       "    .dataframe thead th {\n",
       "        text-align: right;\n",
       "    }\n",
       "</style>\n",
       "<table border=\"1\" class=\"dataframe\">\n",
       "  <thead>\n",
       "    <tr style=\"text-align: right;\">\n",
       "      <th></th>\n",
       "      <th>total_movies</th>\n",
       "      <th>movies_with_both_scores</th>\n",
       "      <th>only_audience_score</th>\n",
       "      <th>only_critic_score</th>\n",
       "      <th>no_scores</th>\n",
       "    </tr>\n",
       "  </thead>\n",
       "  <tbody>\n",
       "    <tr>\n",
       "      <th>0</th>\n",
       "      <td>10233</td>\n",
       "      <td>9649</td>\n",
       "      <td>495</td>\n",
       "      <td>89</td>\n",
       "      <td>0</td>\n",
       "    </tr>\n",
       "  </tbody>\n",
       "</table>\n",
       "</div>"
      ],
      "text/plain": [
       "   total_movies  movies_with_both_scores  only_audience_score  \\\n",
       "0         10233                     9649                  495   \n",
       "\n",
       "   only_critic_score  no_scores  \n",
       "0                 89          0  "
      ]
     },
     "metadata": {},
     "output_type": "display_data"
    }
   ],
   "source": [
    "quality_check = conexion.execute(\"\"\"\n",
    "    SELECT \n",
    "        COUNT(*) as total_movies,\n",
    "        COUNT(CASE WHEN critic_score IS NOT NULL AND audience_score IS NOT NULL THEN 1 END) as movies_with_both_scores,\n",
    "        COUNT(CASE WHEN critic_score IS NULL AND audience_score IS NOT NULL THEN 1 END) as only_audience_score,\n",
    "        COUNT(CASE WHEN critic_score IS NOT NULL AND audience_score IS NULL THEN 1 END) as only_critic_score,\n",
    "        COUNT(CASE WHEN critic_score IS NULL AND audience_score IS NULL THEN 1 END) as no_scores\n",
    "    FROM MOVIES\n",
    "\"\"\").df()\n",
    "\n",
    "print(\"Data Quality Analysis:\")\n",
    "display(quality_check)"
   ]
  },
  {
   "cell_type": "code",
   "execution_count": 238,
   "id": "6f06510b-a966-451f-949f-2db36736b918",
   "metadata": {},
   "outputs": [],
   "source": [
    "\n",
    "top_differences = conexion.execute(\"\"\"\n",
    "    WITH valid_movies AS (\n",
    "        SELECT \n",
    "            movieTitle,\n",
    "            movieYear,\n",
    "            critic_score,\n",
    "            audience_score,\n",
    "            critic_sentiment,\n",
    "            audience_sentiment,\n",
    "            ABS(critic_score - audience_score) as score_difference\n",
    "        FROM MOVIES\n",
    "        WHERE critic_score IS NOT NULL \n",
    "          AND audience_score IS NOT NULL\n",
    "          AND critic_score > 0 \n",
    "          AND audience_score > 0\n",
    "    )\n",
    "    SELECT \n",
    "        movieTitle,\n",
    "        movieYear,\n",
    "        critic_score,\n",
    "        audience_score,\n",
    "        critic_sentiment,\n",
    "        audience_sentiment,\n",
    "        score_difference,\n",
    "        CASE \n",
    "            WHEN critic_score > audience_score THEN 'Critics Preferred'\n",
    "            WHEN audience_score > critic_score THEN 'Audience Preferred'\n",
    "            ELSE 'Equal Rating'\n",
    "        END as preference\n",
    "    FROM valid_movies\n",
    "    ORDER BY score_difference DESC\n",
    "    LIMIT 10\n",
    "\"\"\").df()"
   ]
  },
  {
   "cell_type": "code",
   "execution_count": 239,
   "id": "50d9e4ec-c93c-416c-bc46-4df8fbec08c5",
   "metadata": {},
   "outputs": [
    {
     "data": {
      "application/vnd.plotly.v1+json": {
       "config": {
        "plotlyServerURL": "https://plot.ly"
       },
       "data": [
        {
         "marker": {
          "color": "blue"
         },
         "name": "Críticos",
         "type": "bar",
         "x": [
          "Against the Night",
          "Fauci",
          "Redeeming Love",
          "American Siege",
          "After We Collided",
          "Transition",
          "Out Cold",
          "Unpregnant",
          "Stonewall",
          "The Re-Education of Molly Singer"
         ],
         "y": [
          9,
          86,
          11,
          8,
          12,
          100,
          8,
          92,
          9,
          20
         ]
        },
        {
         "marker": {
          "color": "red"
         },
         "name": "Audiencia",
         "type": "bar",
         "x": [
          "Against the Night",
          "Fauci",
          "Redeeming Love",
          "American Siege",
          "After We Collided",
          "Transition",
          "Out Cold",
          "Unpregnant",
          "Stonewall",
          "The Re-Education of Molly Singer"
         ],
         "y": [
          93,
          2,
          95,
          91,
          93,
          20,
          84,
          16,
          84,
          95
         ]
        }
       ],
       "layout": {
        "autosize": true,
        "barmode": "group",
        "template": {
         "data": {
          "bar": [
           {
            "error_x": {
             "color": "#2a3f5f"
            },
            "error_y": {
             "color": "#2a3f5f"
            },
            "marker": {
             "line": {
              "color": "#E5ECF6",
              "width": 0.5
             },
             "pattern": {
              "fillmode": "overlay",
              "size": 10,
              "solidity": 0.2
             }
            },
            "type": "bar"
           }
          ],
          "barpolar": [
           {
            "marker": {
             "line": {
              "color": "#E5ECF6",
              "width": 0.5
             },
             "pattern": {
              "fillmode": "overlay",
              "size": 10,
              "solidity": 0.2
             }
            },
            "type": "barpolar"
           }
          ],
          "carpet": [
           {
            "aaxis": {
             "endlinecolor": "#2a3f5f",
             "gridcolor": "white",
             "linecolor": "white",
             "minorgridcolor": "white",
             "startlinecolor": "#2a3f5f"
            },
            "baxis": {
             "endlinecolor": "#2a3f5f",
             "gridcolor": "white",
             "linecolor": "white",
             "minorgridcolor": "white",
             "startlinecolor": "#2a3f5f"
            },
            "type": "carpet"
           }
          ],
          "choropleth": [
           {
            "colorbar": {
             "outlinewidth": 0,
             "ticks": ""
            },
            "type": "choropleth"
           }
          ],
          "contour": [
           {
            "colorbar": {
             "outlinewidth": 0,
             "ticks": ""
            },
            "colorscale": [
             [
              0,
              "#0d0887"
             ],
             [
              0.1111111111111111,
              "#46039f"
             ],
             [
              0.2222222222222222,
              "#7201a8"
             ],
             [
              0.3333333333333333,
              "#9c179e"
             ],
             [
              0.4444444444444444,
              "#bd3786"
             ],
             [
              0.5555555555555556,
              "#d8576b"
             ],
             [
              0.6666666666666666,
              "#ed7953"
             ],
             [
              0.7777777777777778,
              "#fb9f3a"
             ],
             [
              0.8888888888888888,
              "#fdca26"
             ],
             [
              1,
              "#f0f921"
             ]
            ],
            "type": "contour"
           }
          ],
          "contourcarpet": [
           {
            "colorbar": {
             "outlinewidth": 0,
             "ticks": ""
            },
            "type": "contourcarpet"
           }
          ],
          "heatmap": [
           {
            "colorbar": {
             "outlinewidth": 0,
             "ticks": ""
            },
            "colorscale": [
             [
              0,
              "#0d0887"
             ],
             [
              0.1111111111111111,
              "#46039f"
             ],
             [
              0.2222222222222222,
              "#7201a8"
             ],
             [
              0.3333333333333333,
              "#9c179e"
             ],
             [
              0.4444444444444444,
              "#bd3786"
             ],
             [
              0.5555555555555556,
              "#d8576b"
             ],
             [
              0.6666666666666666,
              "#ed7953"
             ],
             [
              0.7777777777777778,
              "#fb9f3a"
             ],
             [
              0.8888888888888888,
              "#fdca26"
             ],
             [
              1,
              "#f0f921"
             ]
            ],
            "type": "heatmap"
           }
          ],
          "heatmapgl": [
           {
            "colorbar": {
             "outlinewidth": 0,
             "ticks": ""
            },
            "colorscale": [
             [
              0,
              "#0d0887"
             ],
             [
              0.1111111111111111,
              "#46039f"
             ],
             [
              0.2222222222222222,
              "#7201a8"
             ],
             [
              0.3333333333333333,
              "#9c179e"
             ],
             [
              0.4444444444444444,
              "#bd3786"
             ],
             [
              0.5555555555555556,
              "#d8576b"
             ],
             [
              0.6666666666666666,
              "#ed7953"
             ],
             [
              0.7777777777777778,
              "#fb9f3a"
             ],
             [
              0.8888888888888888,
              "#fdca26"
             ],
             [
              1,
              "#f0f921"
             ]
            ],
            "type": "heatmapgl"
           }
          ],
          "histogram": [
           {
            "marker": {
             "pattern": {
              "fillmode": "overlay",
              "size": 10,
              "solidity": 0.2
             }
            },
            "type": "histogram"
           }
          ],
          "histogram2d": [
           {
            "colorbar": {
             "outlinewidth": 0,
             "ticks": ""
            },
            "colorscale": [
             [
              0,
              "#0d0887"
             ],
             [
              0.1111111111111111,
              "#46039f"
             ],
             [
              0.2222222222222222,
              "#7201a8"
             ],
             [
              0.3333333333333333,
              "#9c179e"
             ],
             [
              0.4444444444444444,
              "#bd3786"
             ],
             [
              0.5555555555555556,
              "#d8576b"
             ],
             [
              0.6666666666666666,
              "#ed7953"
             ],
             [
              0.7777777777777778,
              "#fb9f3a"
             ],
             [
              0.8888888888888888,
              "#fdca26"
             ],
             [
              1,
              "#f0f921"
             ]
            ],
            "type": "histogram2d"
           }
          ],
          "histogram2dcontour": [
           {
            "colorbar": {
             "outlinewidth": 0,
             "ticks": ""
            },
            "colorscale": [
             [
              0,
              "#0d0887"
             ],
             [
              0.1111111111111111,
              "#46039f"
             ],
             [
              0.2222222222222222,
              "#7201a8"
             ],
             [
              0.3333333333333333,
              "#9c179e"
             ],
             [
              0.4444444444444444,
              "#bd3786"
             ],
             [
              0.5555555555555556,
              "#d8576b"
             ],
             [
              0.6666666666666666,
              "#ed7953"
             ],
             [
              0.7777777777777778,
              "#fb9f3a"
             ],
             [
              0.8888888888888888,
              "#fdca26"
             ],
             [
              1,
              "#f0f921"
             ]
            ],
            "type": "histogram2dcontour"
           }
          ],
          "mesh3d": [
           {
            "colorbar": {
             "outlinewidth": 0,
             "ticks": ""
            },
            "type": "mesh3d"
           }
          ],
          "parcoords": [
           {
            "line": {
             "colorbar": {
              "outlinewidth": 0,
              "ticks": ""
             }
            },
            "type": "parcoords"
           }
          ],
          "pie": [
           {
            "automargin": true,
            "type": "pie"
           }
          ],
          "scatter": [
           {
            "fillpattern": {
             "fillmode": "overlay",
             "size": 10,
             "solidity": 0.2
            },
            "type": "scatter"
           }
          ],
          "scatter3d": [
           {
            "line": {
             "colorbar": {
              "outlinewidth": 0,
              "ticks": ""
             }
            },
            "marker": {
             "colorbar": {
              "outlinewidth": 0,
              "ticks": ""
             }
            },
            "type": "scatter3d"
           }
          ],
          "scattercarpet": [
           {
            "marker": {
             "colorbar": {
              "outlinewidth": 0,
              "ticks": ""
             }
            },
            "type": "scattercarpet"
           }
          ],
          "scattergeo": [
           {
            "marker": {
             "colorbar": {
              "outlinewidth": 0,
              "ticks": ""
             }
            },
            "type": "scattergeo"
           }
          ],
          "scattergl": [
           {
            "marker": {
             "colorbar": {
              "outlinewidth": 0,
              "ticks": ""
             }
            },
            "type": "scattergl"
           }
          ],
          "scattermapbox": [
           {
            "marker": {
             "colorbar": {
              "outlinewidth": 0,
              "ticks": ""
             }
            },
            "type": "scattermapbox"
           }
          ],
          "scatterpolar": [
           {
            "marker": {
             "colorbar": {
              "outlinewidth": 0,
              "ticks": ""
             }
            },
            "type": "scatterpolar"
           }
          ],
          "scatterpolargl": [
           {
            "marker": {
             "colorbar": {
              "outlinewidth": 0,
              "ticks": ""
             }
            },
            "type": "scatterpolargl"
           }
          ],
          "scatterternary": [
           {
            "marker": {
             "colorbar": {
              "outlinewidth": 0,
              "ticks": ""
             }
            },
            "type": "scatterternary"
           }
          ],
          "surface": [
           {
            "colorbar": {
             "outlinewidth": 0,
             "ticks": ""
            },
            "colorscale": [
             [
              0,
              "#0d0887"
             ],
             [
              0.1111111111111111,
              "#46039f"
             ],
             [
              0.2222222222222222,
              "#7201a8"
             ],
             [
              0.3333333333333333,
              "#9c179e"
             ],
             [
              0.4444444444444444,
              "#bd3786"
             ],
             [
              0.5555555555555556,
              "#d8576b"
             ],
             [
              0.6666666666666666,
              "#ed7953"
             ],
             [
              0.7777777777777778,
              "#fb9f3a"
             ],
             [
              0.8888888888888888,
              "#fdca26"
             ],
             [
              1,
              "#f0f921"
             ]
            ],
            "type": "surface"
           }
          ],
          "table": [
           {
            "cells": {
             "fill": {
              "color": "#EBF0F8"
             },
             "line": {
              "color": "white"
             }
            },
            "header": {
             "fill": {
              "color": "#C8D4E3"
             },
             "line": {
              "color": "white"
             }
            },
            "type": "table"
           }
          ]
         },
         "layout": {
          "annotationdefaults": {
           "arrowcolor": "#2a3f5f",
           "arrowhead": 0,
           "arrowwidth": 1
          },
          "autotypenumbers": "strict",
          "coloraxis": {
           "colorbar": {
            "outlinewidth": 0,
            "ticks": ""
           }
          },
          "colorscale": {
           "diverging": [
            [
             0,
             "#8e0152"
            ],
            [
             0.1,
             "#c51b7d"
            ],
            [
             0.2,
             "#de77ae"
            ],
            [
             0.3,
             "#f1b6da"
            ],
            [
             0.4,
             "#fde0ef"
            ],
            [
             0.5,
             "#f7f7f7"
            ],
            [
             0.6,
             "#e6f5d0"
            ],
            [
             0.7,
             "#b8e186"
            ],
            [
             0.8,
             "#7fbc41"
            ],
            [
             0.9,
             "#4d9221"
            ],
            [
             1,
             "#276419"
            ]
           ],
           "sequential": [
            [
             0,
             "#0d0887"
            ],
            [
             0.1111111111111111,
             "#46039f"
            ],
            [
             0.2222222222222222,
             "#7201a8"
            ],
            [
             0.3333333333333333,
             "#9c179e"
            ],
            [
             0.4444444444444444,
             "#bd3786"
            ],
            [
             0.5555555555555556,
             "#d8576b"
            ],
            [
             0.6666666666666666,
             "#ed7953"
            ],
            [
             0.7777777777777778,
             "#fb9f3a"
            ],
            [
             0.8888888888888888,
             "#fdca26"
            ],
            [
             1,
             "#f0f921"
            ]
           ],
           "sequentialminus": [
            [
             0,
             "#0d0887"
            ],
            [
             0.1111111111111111,
             "#46039f"
            ],
            [
             0.2222222222222222,
             "#7201a8"
            ],
            [
             0.3333333333333333,
             "#9c179e"
            ],
            [
             0.4444444444444444,
             "#bd3786"
            ],
            [
             0.5555555555555556,
             "#d8576b"
            ],
            [
             0.6666666666666666,
             "#ed7953"
            ],
            [
             0.7777777777777778,
             "#fb9f3a"
            ],
            [
             0.8888888888888888,
             "#fdca26"
            ],
            [
             1,
             "#f0f921"
            ]
           ]
          },
          "colorway": [
           "#636efa",
           "#EF553B",
           "#00cc96",
           "#ab63fa",
           "#FFA15A",
           "#19d3f3",
           "#FF6692",
           "#B6E880",
           "#FF97FF",
           "#FECB52"
          ],
          "font": {
           "color": "#2a3f5f"
          },
          "geo": {
           "bgcolor": "white",
           "lakecolor": "white",
           "landcolor": "#E5ECF6",
           "showlakes": true,
           "showland": true,
           "subunitcolor": "white"
          },
          "hoverlabel": {
           "align": "left"
          },
          "hovermode": "closest",
          "mapbox": {
           "style": "light"
          },
          "paper_bgcolor": "white",
          "plot_bgcolor": "#E5ECF6",
          "polar": {
           "angularaxis": {
            "gridcolor": "white",
            "linecolor": "white",
            "ticks": ""
           },
           "bgcolor": "#E5ECF6",
           "radialaxis": {
            "gridcolor": "white",
            "linecolor": "white",
            "ticks": ""
           }
          },
          "scene": {
           "xaxis": {
            "backgroundcolor": "#E5ECF6",
            "gridcolor": "white",
            "gridwidth": 2,
            "linecolor": "white",
            "showbackground": true,
            "ticks": "",
            "zerolinecolor": "white"
           },
           "yaxis": {
            "backgroundcolor": "#E5ECF6",
            "gridcolor": "white",
            "gridwidth": 2,
            "linecolor": "white",
            "showbackground": true,
            "ticks": "",
            "zerolinecolor": "white"
           },
           "zaxis": {
            "backgroundcolor": "#E5ECF6",
            "gridcolor": "white",
            "gridwidth": 2,
            "linecolor": "white",
            "showbackground": true,
            "ticks": "",
            "zerolinecolor": "white"
           }
          },
          "shapedefaults": {
           "line": {
            "color": "#2a3f5f"
           }
          },
          "ternary": {
           "aaxis": {
            "gridcolor": "white",
            "linecolor": "white",
            "ticks": ""
           },
           "baxis": {
            "gridcolor": "white",
            "linecolor": "white",
            "ticks": ""
           },
           "bgcolor": "#E5ECF6",
           "caxis": {
            "gridcolor": "white",
            "linecolor": "white",
            "ticks": ""
           }
          },
          "title": {
           "x": 0.05
          },
          "xaxis": {
           "automargin": true,
           "gridcolor": "white",
           "linecolor": "white",
           "ticks": "",
           "title": {
            "standoff": 15
           },
           "zerolinecolor": "white",
           "zerolinewidth": 2
          },
          "yaxis": {
           "automargin": true,
           "gridcolor": "white",
           "linecolor": "white",
           "ticks": "",
           "title": {
            "standoff": 15
           },
           "zerolinecolor": "white",
           "zerolinewidth": 2
          }
         }
        },
        "title": {
         "text": "Top 10 Películas con Mayor Diferencia entre Críticos y Audiencia"
        },
        "xaxis": {
         "autorange": true,
         "range": [
          -0.5,
          9.5
         ],
         "title": {
          "text": "Película"
         },
         "type": "category"
        },
        "yaxis": {
         "autorange": true,
         "range": [
          0,
          105.26315789473685
         ],
         "title": {
          "text": "Puntuación"
         },
         "type": "linear"
        }
       }
      },
      "image/png": "[encoded data removed]",
      "text/html": [
       "<div>                            <div id=\"b87a7760-8420-41eb-b4d3-709c16ffa861\" class=\"plotly-graph-div\" style=\"height:525px; width:100%;\"></div>            <script type=\"text/javascript\">                require([\"plotly\"], function(Plotly) {                    window.PLOTLYENV=window.PLOTLYENV || {};                                    if (document.getElementById(\"b87a7760-8420-41eb-b4d3-709c16ffa861\")) {                    Plotly.newPlot(                        \"b87a7760-8420-41eb-b4d3-709c16ffa861\",                        [{\"marker\":{\"color\":\"blue\"},\"name\":\"Cr\\u00edticos\",\"x\":[\"Against the Night\",\"Fauci\",\"Redeeming Love\",\"American Siege\",\"After We Collided\",\"Transition\",\"Out Cold\",\"Unpregnant\",\"Stonewall\",\"The Re-Education of Molly Singer\"],\"y\":[9.0,86.0,11.0,8.0,12.0,100.0,8.0,92.0,9.0,20.0],\"type\":\"bar\"},{\"marker\":{\"color\":\"red\"},\"name\":\"Audiencia\",\"x\":[\"Against the Night\",\"Fauci\",\"Redeeming Love\",\"American Siege\",\"After We Collided\",\"Transition\",\"Out Cold\",\"Unpregnant\",\"Stonewall\",\"The Re-Education of Molly Singer\"],\"y\":[93.0,2.0,95.0,91.0,93.0,20.0,84.0,16.0,84.0,95.0],\"type\":\"bar\"}],                        {\"template\":{\"data\":{\"histogram2dcontour\":[{\"type\":\"histogram2dcontour\",\"colorbar\":{\"outlinewidth\":0,\"ticks\":\"\"},\"colorscale\":[[0.0,\"#0d0887\"],[0.1111111111111111,\"#46039f\"],[0.2222222222222222,\"#7201a8\"],[0.3333333333333333,\"#9c179e\"],[0.4444444444444444,\"#bd3786\"],[0.5555555555555556,\"#d8576b\"],[0.6666666666666666,\"#ed7953\"],[0.7777777777777778,\"#fb9f3a\"],[0.8888888888888888,\"#fdca26\"],[1.0,\"#f0f921\"]]}],\"choropleth\":[{\"type\":\"choropleth\",\"colorbar\":{\"outlinewidth\":0,\"ticks\":\"\"}}],\"histogram2d\":[{\"type\":\"histogram2d\",\"colorbar\":{\"outlinewidth\":0,\"ticks\":\"\"},\"colorscale\":[[0.0,\"#0d0887\"],[0.1111111111111111,\"#46039f\"],[0.2222222222222222,\"#7201a8\"],[0.3333333333333333,\"#9c179e\"],[0.4444444444444444,\"#bd3786\"],[0.5555555555555556,\"#d8576b\"],[0.6666666666666666,\"#ed7953\"],[0.7777777777777778,\"#fb9f3a\"],[0.8888888888888888,\"#fdca26\"],[1.0,\"#f0f921\"]]}],\"heatmap\":[{\"type\":\"heatmap\",\"colorbar\":{\"outlinewidth\":0,\"ticks\":\"\"},\"colorscale\":[[0.0,\"#0d0887\"],[0.1111111111111111,\"#46039f\"],[0.2222222222222222,\"#7201a8\"],[0.3333333333333333,\"#9c179e\"],[0.4444444444444444,\"#bd3786\"],[0.5555555555555556,\"#d8576b\"],[0.6666666666666666,\"#ed7953\"],[0.7777777777777778,\"#fb9f3a\"],[0.8888888888888888,\"#fdca26\"],[1.0,\"#f0f921\"]]}],\"heatmapgl\":[{\"type\":\"heatmapgl\",\"colorbar\":{\"outlinewidth\":0,\"ticks\":\"\"},\"colorscale\":[[0.0,\"#0d0887\"],[0.1111111111111111,\"#46039f\"],[0.2222222222222222,\"#7201a8\"],[0.3333333333333333,\"#9c179e\"],[0.4444444444444444,\"#bd3786\"],[0.5555555555555556,\"#d8576b\"],[0.6666666666666666,\"#ed7953\"],[0.7777777777777778,\"#fb9f3a\"],[0.8888888888888888,\"#fdca26\"],[1.0,\"#f0f921\"]]}],\"contourcarpet\":[{\"type\":\"contourcarpet\",\"colorbar\":{\"outlinewidth\":0,\"ticks\":\"\"}}],\"contour\":[{\"type\":\"contour\",\"colorbar\":{\"outlinewidth\":0,\"ticks\":\"\"},\"colorscale\":[[0.0,\"#0d0887\"],[0.1111111111111111,\"#46039f\"],[0.2222222222222222,\"#7201a8\"],[0.3333333333333333,\"#9c179e\"],[0.4444444444444444,\"#bd3786\"],[0.5555555555555556,\"#d8576b\"],[0.6666666666666666,\"#ed7953\"],[0.7777777777777778,\"#fb9f3a\"],[0.8888888888888888,\"#fdca26\"],[1.0,\"#f0f921\"]]}],\"surface\":[{\"type\":\"surface\",\"colorbar\":{\"outlinewidth\":0,\"ticks\":\"\"},\"colorscale\":[[0.0,\"#0d0887\"],[0.1111111111111111,\"#46039f\"],[0.2222222222222222,\"#7201a8\"],[0.3333333333333333,\"#9c179e\"],[0.4444444444444444,\"#bd3786\"],[0.5555555555555556,\"#d8576b\"],[0.6666666666666666,\"#ed7953\"],[0.7777777777777778,\"#fb9f3a\"],[0.8888888888888888,\"#fdca26\"],[1.0,\"#f0f921\"]]}],\"mesh3d\":[{\"type\":\"mesh3d\",\"colorbar\":{\"outlinewidth\":0,\"ticks\":\"\"}}],\"scatter\":[{\"fillpattern\":{\"fillmode\":\"overlay\",\"size\":10,\"solidity\":0.2},\"type\":\"scatter\"}],\"parcoords\":[{\"type\":\"parcoords\",\"line\":{\"colorbar\":{\"outlinewidth\":0,\"ticks\":\"\"}}}],\"scatterpolargl\":[{\"type\":\"scatterpolargl\",\"marker\":{\"colorbar\":{\"outlinewidth\":0,\"ticks\":\"\"}}}],\"bar\":[{\"error_x\":{\"color\":\"#2a3f5f\"},\"error_y\":{\"color\":\"#2a3f5f\"},\"marker\":{\"line\":{\"color\":\"#E5ECF6\",\"width\":0.5},\"pattern\":{\"fillmode\":\"overlay\",\"size\":10,\"solidity\":0.2}},\"type\":\"bar\"}],\"scattergeo\":[{\"type\":\"scattergeo\",\"marker\":{\"colorbar\":{\"outlinewidth\":0,\"ticks\":\"\"}}}],\"scatterpolar\":[{\"type\":\"scatterpolar\",\"marker\":{\"colorbar\":{\"outlinewidth\":0,\"ticks\":\"\"}}}],\"histogram\":[{\"marker\":{\"pattern\":{\"fillmode\":\"overlay\",\"size\":10,\"solidity\":0.2}},\"type\":\"histogram\"}],\"scattergl\":[{\"type\":\"scattergl\",\"marker\":{\"colorbar\":{\"outlinewidth\":0,\"ticks\":\"\"}}}],\"scatter3d\":[{\"type\":\"scatter3d\",\"line\":{\"colorbar\":{\"outlinewidth\":0,\"ticks\":\"\"}},\"marker\":{\"colorbar\":{\"outlinewidth\":0,\"ticks\":\"\"}}}],\"scattermapbox\":[{\"type\":\"scattermapbox\",\"marker\":{\"colorbar\":{\"outlinewidth\":0,\"ticks\":\"\"}}}],\"scatterternary\":[{\"type\":\"scatterternary\",\"marker\":{\"colorbar\":{\"outlinewidth\":0,\"ticks\":\"\"}}}],\"scattercarpet\":[{\"type\":\"scattercarpet\",\"marker\":{\"colorbar\":{\"outlinewidth\":0,\"ticks\":\"\"}}}],\"carpet\":[{\"aaxis\":{\"endlinecolor\":\"#2a3f5f\",\"gridcolor\":\"white\",\"linecolor\":\"white\",\"minorgridcolor\":\"white\",\"startlinecolor\":\"#2a3f5f\"},\"baxis\":{\"endlinecolor\":\"#2a3f5f\",\"gridcolor\":\"white\",\"linecolor\":\"white\",\"minorgridcolor\":\"white\",\"startlinecolor\":\"#2a3f5f\"},\"type\":\"carpet\"}],\"table\":[{\"cells\":{\"fill\":{\"color\":\"#EBF0F8\"},\"line\":{\"color\":\"white\"}},\"header\":{\"fill\":{\"color\":\"#C8D4E3\"},\"line\":{\"color\":\"white\"}},\"type\":\"table\"}],\"barpolar\":[{\"marker\":{\"line\":{\"color\":\"#E5ECF6\",\"width\":0.5},\"pattern\":{\"fillmode\":\"overlay\",\"size\":10,\"solidity\":0.2}},\"type\":\"barpolar\"}],\"pie\":[{\"automargin\":true,\"type\":\"pie\"}]},\"layout\":{\"autotypenumbers\":\"strict\",\"colorway\":[\"#636efa\",\"#EF553B\",\"#00cc96\",\"#ab63fa\",\"#FFA15A\",\"#19d3f3\",\"#FF6692\",\"#B6E880\",\"#FF97FF\",\"#FECB52\"],\"font\":{\"color\":\"#2a3f5f\"},\"hovermode\":\"closest\",\"hoverlabel\":{\"align\":\"left\"},\"paper_bgcolor\":\"white\",\"plot_bgcolor\":\"#E5ECF6\",\"polar\":{\"bgcolor\":\"#E5ECF6\",\"angularaxis\":{\"gridcolor\":\"white\",\"linecolor\":\"white\",\"ticks\":\"\"},\"radialaxis\":{\"gridcolor\":\"white\",\"linecolor\":\"white\",\"ticks\":\"\"}},\"ternary\":{\"bgcolor\":\"#E5ECF6\",\"aaxis\":{\"gridcolor\":\"white\",\"linecolor\":\"white\",\"ticks\":\"\"},\"baxis\":{\"gridcolor\":\"white\",\"linecolor\":\"white\",\"ticks\":\"\"},\"caxis\":{\"gridcolor\":\"white\",\"linecolor\":\"white\",\"ticks\":\"\"}},\"coloraxis\":{\"colorbar\":{\"outlinewidth\":0,\"ticks\":\"\"}},\"colorscale\":{\"sequential\":[[0.0,\"#0d0887\"],[0.1111111111111111,\"#46039f\"],[0.2222222222222222,\"#7201a8\"],[0.3333333333333333,\"#9c179e\"],[0.4444444444444444,\"#bd3786\"],[0.5555555555555556,\"#d8576b\"],[0.6666666666666666,\"#ed7953\"],[0.7777777777777778,\"#fb9f3a\"],[0.8888888888888888,\"#fdca26\"],[1.0,\"#f0f921\"]],\"sequentialminus\":[[0.0,\"#0d0887\"],[0.1111111111111111,\"#46039f\"],[0.2222222222222222,\"#7201a8\"],[0.3333333333333333,\"#9c179e\"],[0.4444444444444444,\"#bd3786\"],[0.5555555555555556,\"#d8576b\"],[0.6666666666666666,\"#ed7953\"],[0.7777777777777778,\"#fb9f3a\"],[0.8888888888888888,\"#fdca26\"],[1.0,\"#f0f921\"]],\"diverging\":[[0,\"#8e0152\"],[0.1,\"#c51b7d\"],[0.2,\"#de77ae\"],[0.3,\"#f1b6da\"],[0.4,\"#fde0ef\"],[0.5,\"#f7f7f7\"],[0.6,\"#e6f5d0\"],[0.7,\"#b8e186\"],[0.8,\"#7fbc41\"],[0.9,\"#4d9221\"],[1,\"#276419\"]]},\"xaxis\":{\"gridcolor\":\"white\",\"linecolor\":\"white\",\"ticks\":\"\",\"title\":{\"standoff\":15},\"zerolinecolor\":\"white\",\"automargin\":true,\"zerolinewidth\":2},\"yaxis\":{\"gridcolor\":\"white\",\"linecolor\":\"white\",\"ticks\":\"\",\"title\":{\"standoff\":15},\"zerolinecolor\":\"white\",\"automargin\":true,\"zerolinewidth\":2},\"scene\":{\"xaxis\":{\"backgroundcolor\":\"#E5ECF6\",\"gridcolor\":\"white\",\"linecolor\":\"white\",\"showbackground\":true,\"ticks\":\"\",\"zerolinecolor\":\"white\",\"gridwidth\":2},\"yaxis\":{\"backgroundcolor\":\"#E5ECF6\",\"gridcolor\":\"white\",\"linecolor\":\"white\",\"showbackground\":true,\"ticks\":\"\",\"zerolinecolor\":\"white\",\"gridwidth\":2},\"zaxis\":{\"backgroundcolor\":\"#E5ECF6\",\"gridcolor\":\"white\",\"linecolor\":\"white\",\"showbackground\":true,\"ticks\":\"\",\"zerolinecolor\":\"white\",\"gridwidth\":2}},\"shapedefaults\":{\"line\":{\"color\":\"#2a3f5f\"}},\"annotationdefaults\":{\"arrowcolor\":\"#2a3f5f\",\"arrowhead\":0,\"arrowwidth\":1},\"geo\":{\"bgcolor\":\"white\",\"landcolor\":\"#E5ECF6\",\"subunitcolor\":\"white\",\"showland\":true,\"showlakes\":true,\"lakecolor\":\"white\"},\"title\":{\"x\":0.05},\"mapbox\":{\"style\":\"light\"}}},\"title\":{\"text\":\"Top 10 Pel\\u00edculas con Mayor Diferencia entre Cr\\u00edticos y Audiencia\"},\"xaxis\":{\"title\":{\"text\":\"Pel\\u00edcula\"}},\"yaxis\":{\"title\":{\"text\":\"Puntuaci\\u00f3n\"}},\"barmode\":\"group\"},                        {\"responsive\": true}                    ).then(function(){\n",
       "                            \n",
       "var gd = document.getElementById('b87a7760-8420-41eb-b4d3-709c16ffa861');\n",
       "var x = new MutationObserver(function (mutations, observer) {{\n",
       "        var display = window.getComputedStyle(gd).display;\n",
       "        if (!display || display === 'none') {{\n",
       "            console.log([gd, 'removed!']);\n",
       "            Plotly.purge(gd);\n",
       "            observer.disconnect();\n",
       "        }}\n",
       "}});\n",
       "\n",
       "// Listen for the removal of the full notebook cells\n",
       "var notebookContainer = gd.closest('#notebook-container');\n",
       "if (notebookContainer) {{\n",
       "    x.observe(notebookContainer, {childList: true});\n",
       "}}\n",
       "\n",
       "// Listen for the clearing of the current output cell\n",
       "var outputEl = gd.closest('.output');\n",
       "if (outputEl) {{\n",
       "    x.observe(outputEl, {childList: true});\n",
       "}}\n",
       "\n",
       "                        })                };                });            </script>        </div>"
      ]
     },
     "metadata": {},
     "output_type": "display_data"
    }
   ],
   "source": [
    "fig = go.Figure()\n",
    "fig.add_trace(go.Bar(x=top_differences['movieTitle'], y=top_differences['critic_score'],\n",
    "                    name='Críticos', marker_color='blue'))\n",
    "fig.add_trace(go.Bar(x=top_differences['movieTitle'], y=top_differences['audience_score'],\n",
    "                    name='Audiencia', marker_color='red'))\n",
    "fig.update_layout(title='Top 10 Películas con Mayor Diferencia entre Críticos y Audiencia',\n",
    "                 xaxis_title='Película',\n",
    "                 yaxis_title='Puntuación',\n",
    "                 barmode='group')\n",
    "fig.show()"
   ]
  },
  {
   "cell_type": "markdown",
   "id": "74497a72-9d82-4e58-989e-91fcb74d203a",
   "metadata": {},
   "source": [
    "Este gráfico revela patrones interesantes en la disparidad entre los puntajes de críticos y audiencia en una escala de 0 a 100:\n",
    "\n",
    "1. Casos Extremos:\n",
    "- 'Transition' muestra la mayor disparidad, con críticos otorgando aproximadamente 95 puntos mientras la audiencia solo dio cerca de 20 puntos, una diferencia de 75 puntos\n",
    "- 'Against the Night' presenta el caso opuesto, con un puntaje de audiencia de 90 puntos frente a solo 10 puntos de los críticos, una diferencia de 80 puntos\n",
    "\n",
    "2. Patrones de Disparidad:\n",
    "- En 6 de los 10 casos, la audiencia puntuó significativamente más alto que los críticos\n",
    "- En 4 películas, los críticos dieron puntuaciones notablemente más altas que la audiencia\n",
    "- Las diferencias son sustanciales, frecuentemente superando los 60 puntos en la escala\n",
    "\n",
    "3. Observaciones Específicas:\n",
    "- Películas como 'Redeeming Love', 'American Siege' y 'After We Collided' muestran un patrón similar donde la audiencia las valoró con más de 85 puntos mientras los críticos las calificaron por debajo de 20 puntos\n",
    "- 'The Re-Education of Molly Singer' recibió aproximadamente 90 puntos de la audiencia contra 20 puntos de los críticos\n",
    "\n",
    "4. Implicaciones:\n",
    "- La magnitud de estas diferencias es particularmente significativa considerando que es una escala continua de 100 puntos\n",
    "- Sugiere evaluaciones fundamentalmente opuestas entre críticos y público\n",
    "- Las diferencias de más de 60 puntos indican una polarización extrema en la recepción de estas películas."
   ]
  },
  {
   "cell_type": "code",
   "execution_count": 244,
   "id": "38ce15f5-365f-4001-b76a-310391d4c17c",
   "metadata": {},
   "outputs": [
    {
     "name": "stdout",
     "output_type": "stream",
     "text": [
      "264.26571774482727\n"
     ]
    }
   ],
   "source": [
    "tiempoFinal = time.time()\n",
    "tiempoTotal2 = tiempoFinal - tiempoInicio2\n",
    "print(tiempoTotal2)"
   ]
  },
  {
   "cell_type": "markdown",
   "id": "5ceeebba-7ca5-46c6-ad1a-8d7191869fc1",
   "metadata": {},
   "source": [
    "### COMPONENTE B: Machine Learning (ML), NLP, o Análisis de Grafos"
   ]
  },
  {
   "cell_type": "markdown",
   "id": "7d2d1e30-e77a-423b-9038-ade8cd50766e",
   "metadata": {},
   "source": [
    "- En todos los proyectos los estudiantes deberán realizar DOS (en los grupos de 5 personas) o UN (en el grupo de 4 personas) análisis de entre: \n",
    "Machine Learning: Deberán utilizar Spark MLib\n",
    "NLP: Deberán utilizar Spark MLib\n",
    "Análisis de Grafos: Deberán utilizar Spark GraphFrames\n",
    "- Ejemplos: un modelo de regresión logística, un análisis del degree centrality de un grafo, un modelo utilizando tokenización TF-IDF, un modelo de xgboost, etc.\n",
    "- Estos análisis pueden ser realizados en un subconjunto de los datos. Ejemplo: filtrar ciertos aeropuertos, filtrar solamente el TOP 10 de subreddits, filtrar solamente el TOP "
   ]
  },
  {
   "cell_type": "code",
   "execution_count": null,
   "id": "e4ebc4f1-1531-426b-8307-71e79645b8b2",
   "metadata": {},
   "outputs": [],
   "source": []
  },
  {
   "cell_type": "code",
   "execution_count": null,
   "id": "f9941afb-176d-44db-8f3b-d3719250df46",
   "metadata": {},
   "outputs": [],
   "source": []
  },
  {
   "cell_type": "code",
   "execution_count": null,
   "id": "0ab2927a-92da-4b27-9a8e-b497efab4d2f",
   "metadata": {},
   "outputs": [],
   "source": []
  },
  {
   "cell_type": "code",
   "execution_count": null,
   "id": "b3e0c3fb-0914-48da-b687-146a1d55d479",
   "metadata": {},
   "outputs": [],
   "source": []
  },
  {
   "cell_type": "code",
   "execution_count": null,
   "id": "3a8983ad-3df8-4b03-87a1-cfb90a77424a",
   "metadata": {},
   "outputs": [],
   "source": []
  },
  {
   "cell_type": "code",
   "execution_count": null,
   "id": "aa1dd336-ade7-4b9d-bdcb-e69892e50a8d",
   "metadata": {},
   "outputs": [],
   "source": []
  },
  {
   "cell_type": "code",
   "execution_count": null,
   "id": "fdb36d3e-4c4c-4058-838c-b7fc98d7bb87",
   "metadata": {},
   "outputs": [],
   "source": []
  }
 ],
 "metadata": {
  "kernelspec": {
   "display_name": "big_data_venv",
   "language": "python",
   "name": "python3"
  },
  "language_info": {
   "codemirror_mode": {
    "name": "ipython",
    "version": 3
   },
   "file_extension": ".py",
   "mimetype": "text/x-python",
   "name": "python",
   "nbconvert_exporter": "python",
   "pygments_lexer": "ipython3",
   "version": "3.11.5"
  }
 },
 "nbformat": 4,
 "nbformat_minor": 5
}
